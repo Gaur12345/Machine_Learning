{
 "cells": [
  {
   "cell_type": "code",
   "execution_count": 1,
   "metadata": {},
   "outputs": [],
   "source": [
    "import cv2 \n",
    "import numpy as np"
   ]
  },
  {
   "cell_type": "code",
   "execution_count": 4,
   "metadata": {},
   "outputs": [
    {
     "data": {
      "text/plain": [
       "'3.4.1'"
      ]
     },
     "execution_count": 4,
     "metadata": {},
     "output_type": "execute_result"
    }
   ],
   "source": [
    "cv2.__version__"
   ]
  },
  {
   "cell_type": "markdown",
   "metadata": {},
   "source": [
    "# Reading Image"
   ]
  },
  {
   "cell_type": "code",
   "execution_count": 2,
   "metadata": {},
   "outputs": [],
   "source": [
    "img = cv2.imread('E:\\OpenCvImage\\lena_color.jpg')\n",
    "cv2.imshow(\"Output Image\",img)\n",
    "\n",
    "cv2.imwrite('E:\\OpenCvImage\\Leena.jpg',img)\n",
    "\n",
    "cv2.waitKey(0)\n",
    "cv2.destroyAllWindows()"
   ]
  },
  {
   "cell_type": "markdown",
   "metadata": {},
   "source": [
    "# Image Information\n"
   ]
  },
  {
   "cell_type": "code",
   "execution_count": 9,
   "metadata": {},
   "outputs": [
    {
     "name": "stdout",
     "output_type": "stream",
     "text": [
      "(512, 512, 3)\n",
      "Height of image in pixel  512\n",
      "width of image in pixel 512\n",
      "Leyer of image  3\n",
      "91\n",
      "786432\n",
      "uint8\n"
     ]
    }
   ],
   "source": [
    "print(img.shape)\n",
    "# This shape function show Height,width and leyer (R,G,B)\n",
    "print(\"Height of image in pixel \",img.shape[0])\n",
    "print(\"width of image in pixel\",img.shape[1])\n",
    "print(\"Leyer of image \",img.shape[2])\n",
    "print(img[100,100,0])\n",
    "print(img.size)\n",
    "print(img.dtype)\n"
   ]
  },
  {
   "cell_type": "markdown",
   "metadata": {},
   "source": [
    "# Convert into GrayScale"
   ]
  },
  {
   "cell_type": "code",
   "execution_count": 10,
   "metadata": {},
   "outputs": [
    {
     "name": "stdout",
     "output_type": "stream",
     "text": [
      "[[161 163 163 ... 169 153 125]\n",
      " [161 163 162 ... 171 155 125]\n",
      " [162 163 162 ... 171 154 122]\n",
      " ...\n",
      " [ 28  26  38 ...  97  94  93]\n",
      " [ 28  27  42 ...  99  93 103]\n",
      " [ 30  27  42 ...  98 100 102]]\n"
     ]
    }
   ],
   "source": [
    "gray_img = cv2.cvtColor(img,cv2.COLOR_BGR2GRAY)\n",
    "cv2.imshow(\"Gray Scale Image is\",gray_img)\n",
    "print(gray_img)\n",
    "cv2.waitKey(0)\n",
    "cv2.destroyAllWindows()"
   ]
  },
  {
   "cell_type": "markdown",
   "metadata": {},
   "source": [
    "# Concert Into Binary Image"
   ]
  },
  {
   "cell_type": "code",
   "execution_count": 13,
   "metadata": {},
   "outputs": [
    {
     "name": "stdout",
     "output_type": "stream",
     "text": [
      "[[255 255 255 ... 255 255   0]\n",
      " [255 255 255 ... 255 255   0]\n",
      " [255 255 255 ... 255 255   0]\n",
      " ...\n",
      " [  0   0   0 ...   0   0   0]\n",
      " [  0   0   0 ...   0   0   0]\n",
      " [  0   0   0 ...   0   0   0]]\n"
     ]
    }
   ],
   "source": [
    "ret ,bw=cv2.threshold(gray_img,127,255,cv2.THRESH_BINARY)\n",
    "cv2.imshow(\"Binary Image is \",bw)\n",
    "print(bw)\n",
    "cv2.waitKey(0)\n",
    "cv2.destroyAllWindows()"
   ]
  },
  {
   "cell_type": "code",
   "execution_count": 15,
   "metadata": {},
   "outputs": [],
   "source": [
    "#Hue : 0 - 180\n",
    "#Saturation : 0 - 255\n",
    "#Value : 0 -255\n",
    "\n",
    "img = cv2.imread('D:\\Photos\\saved Pictures\\slider11.jpg')\n",
    "cv2.imshow(\"Output is \",img)\n",
    "\n",
    "img_hsv = cv2.cvtColor(img,cv2.COLOR_BGR2HSV)\n",
    "cv2.imshow(\"HSV image is \",img_hsv)\n",
    "cv2.imshow(\"Hue chennal \",img_hsv[:,:,0])\n",
    "cv2.imshow(\"Saturation Chennal\",img_hsv[:,:,1])\n",
    "cv2.imshow(\"Value Chennal  \",img_hsv[:,:,2])\n",
    "\n",
    "cv2.waitKey(0)\n",
    "cv2.destroyAllWindows()"
   ]
  },
  {
   "cell_type": "markdown",
   "metadata": {},
   "source": [
    "# RGB IMAGE"
   ]
  },
  {
   "cell_type": "code",
   "execution_count": 3,
   "metadata": {},
   "outputs": [
    {
     "name": "stdout",
     "output_type": "stream",
     "text": [
      "[[[ 93  94  92]\n",
      "  [105 107 107]\n",
      "  [103 105 106]\n",
      "  ...\n",
      "  [ 97 110  96]\n",
      "  [100 116  99]\n",
      "  [100 118 101]]\n",
      "\n",
      " [[125 127 121]\n",
      "  [140 141 137]\n",
      "  [135 136 134]\n",
      "  ...\n",
      "  [112 125 109]\n",
      "  [111 127 110]\n",
      "  [109 127 110]]\n",
      "\n",
      " [[124 127 112]\n",
      "  [141 143 131]\n",
      "  [130 134 123]\n",
      "  ...\n",
      "  [108 124 106]\n",
      "  [104 123 104]\n",
      "  [ 99 118  99]]\n",
      "\n",
      " ...\n",
      "\n",
      " [[ 79  65  42]\n",
      "  [ 91  75  52]\n",
      "  [ 91  75  52]\n",
      "  ...\n",
      "  [172 194 166]\n",
      "  [172 193 168]\n",
      "  [153 175 147]]\n",
      "\n",
      " [[ 82  68  45]\n",
      "  [ 93  77  54]\n",
      "  [ 94  78  55]\n",
      "  ...\n",
      "  [179 200 175]\n",
      "  [186 207 182]\n",
      "  [173 194 169]]\n",
      "\n",
      " [[ 78  64  41]\n",
      "  [ 85  71  48]\n",
      "  [ 85  69  46]\n",
      "  ...\n",
      "  [143 164 139]\n",
      "  [163 183 160]\n",
      "  [162 182 159]]]\n",
      "[[0 0 0 ... 0 0 0]\n",
      " [0 0 0 ... 0 0 0]\n",
      " [0 0 0 ... 0 0 0]\n",
      " ...\n",
      " [0 0 0 ... 0 0 0]\n",
      " [0 0 0 ... 0 0 0]\n",
      " [0 0 0 ... 0 0 0]]\n"
     ]
    }
   ],
   "source": [
    "img=cv2.imread('D:\\Photos\\Saved Pictures\\slider11.jpg')\n",
    "print(img[:])\n",
    "cv2.imshow(\"Origibal Image\",img)\n",
    "B,G,R = cv2.split(img)\n",
    "img\n",
    "zeros = np.zeros(img.shape[:2],dtype=\"uint8\")\n",
    "print(zeros)\n",
    "cv2.imshow(\"RED\",cv2.merge([zeros,zeros,R]))\n",
    "cv2.waitKey(0)\n",
    "cv2.destroyAllWindows()"
   ]
  },
  {
   "cell_type": "markdown",
   "metadata": {},
   "source": [
    "# Making Image Using array"
   ]
  },
  {
   "cell_type": "code",
   "execution_count": 4,
   "metadata": {},
   "outputs": [
    {
     "name": "stdout",
     "output_type": "stream",
     "text": [
      "[[0 0 0]\n",
      " [0 0 0]\n",
      " [0 0 0]]\n",
      "[[[0 0 0]\n",
      "  [0 0 0]\n",
      "  [0 0 0]]\n",
      "\n",
      " [[0 0 0]\n",
      "  [0 0 0]\n",
      "  [0 0 0]]\n",
      "\n",
      " [[0 0 0]\n",
      "  [0 0 0]\n",
      "  [0 0 0]]]\n",
      "(3, 3, 3)\n"
     ]
    }
   ],
   "source": [
    "img = np.zeros((3,3),dtype=np.uint8)\n",
    "print(img)\n",
    "\n",
    "img = cv2.cvtColor(img,cv2.COLOR_GRAY2BGR)\n",
    "print(img)\n",
    "print(img.shape)\n",
    "cv2.imshow(\"Origranl Image \",img)\n",
    "\n",
    "cv2.waitKey(0)\n",
    "cv2.destroyAllWindows()"
   ]
  },
  {
   "cell_type": "code",
   "execution_count": 18,
   "metadata": {},
   "outputs": [
    {
     "name": "stdout",
     "output_type": "stream",
     "text": [
      "[ 81  82 218 ...  44  50 220]\n",
      "[[[ 81  82 218]\n",
      "  [ 97 203  43]\n",
      "  [ 23  57 183]\n",
      "  ...\n",
      "  [143 105 179]\n",
      "  [ 19 130 193]\n",
      "  [ 72 201 213]]\n",
      "\n",
      " [[ 22  55  99]\n",
      "  [127  20 121]\n",
      "  [187  35  93]\n",
      "  ...\n",
      "  [ 82 129  36]\n",
      "  [107 203 114]\n",
      "  [175 234 138]]\n",
      "\n",
      " [[ 57  40 100]\n",
      "  [113 150 195]\n",
      "  [108 249 169]\n",
      "  ...\n",
      "  [ 34  32  24]\n",
      "  [ 54 253  93]\n",
      "  [ 41 223 158]]\n",
      "\n",
      " ...\n",
      "\n",
      " [[163 233  43]\n",
      "  [157 162  40]\n",
      "  [216 231 143]\n",
      "  ...\n",
      "  [161 156 142]\n",
      "  [ 77 164 202]\n",
      "  [152  29 138]]\n",
      "\n",
      " [[145 124  46]\n",
      "  [200 183  48]\n",
      "  [244  38 154]\n",
      "  ...\n",
      "  [240 225 100]\n",
      "  [ 71  41  70]\n",
      "  [249 232  22]]\n",
      "\n",
      " [[ 62 153 214]\n",
      "  [  0  26 158]\n",
      "  [220 213  42]\n",
      "  ...\n",
      "  [220 219 112]\n",
      "  [240   8 202]\n",
      "  [ 44  50 220]]]\n"
     ]
    }
   ],
   "source": [
    "import os\n",
    "randomByteArray = bytearray(os.urandom(120000))\n",
    "#print(randomByteArray)\n",
    "flatNumberArray = np.array(randomByteArray)\n",
    "print(flatNumberArray)\n",
    "# convert the array to make a 400*300 grayscale image\n",
    "grayimage = flatNumberArray.reshape(300,400)\n",
    "cv2.imshow(\"Random Image\",grayimage)\n",
    "\n",
    "#Converting the array to make a 400*100 color image\n",
    "bgrimage = flatNumberArray.reshape(100,400,3)\n",
    "print(bgrimage)\n",
    "cv2.imshow(\"Random Color Image\",bgrimage)\n",
    "\n",
    "cv2.waitKey(0)\n",
    "cv2.destroyAllWindows()"
   ]
  },
  {
   "cell_type": "code",
   "execution_count": 17,
   "metadata": {},
   "outputs": [
    {
     "name": "stdout",
     "output_type": "stream",
     "text": [
      "(340, 860, 3)\n",
      "(340, 860)\n",
      "[[0 0 0 ... 0 0 0]\n",
      " [0 0 0 ... 0 0 0]\n",
      " [0 0 0 ... 0 0 0]\n",
      " ...\n",
      " [0 0 0 ... 0 0 0]\n",
      " [0 0 0 ... 0 0 0]\n",
      " [0 0 0 ... 0 0 0]]\n"
     ]
    }
   ],
   "source": [
    "img = cv2.imread('D:\\Photos\\Saved Pictures\\slider11.jpg')\n",
    "cv2.imshow(\"Origran Image\",img)\n",
    "B,G,R = cv2.split(img)\n",
    "print(img.shape)\n",
    "print(img.shape[:2])\n",
    "zeros = np.zeros(img.shape[:2],dtype=\"uint8\")\n",
    "print(zeros)\n",
    "\n",
    "cv2.imshow(\"RED\",cv2.merge([zeros,zeros,R]))\n",
    "\n",
    "cv2.imshow(\"Green\",cv2.merge([B,zeros,zeros]))\n",
    "cv2.imshow(\"Blue\",cv2.merge([zeros,G,zeros]))\n",
    "cv2.imshow(\"Blue Green \",cv2.merge([B,G,zeros]))\n",
    "cv2.imshow(\"RED,blue and green \",cv2.merge([B,G,R]))\n",
    "\n",
    "\n",
    "cv2.imshow(\"Blue Red\",cv2.merge([B,zeros,R]))\n",
    "cv2.waitKey(0)\n",
    "cv2.destroyAllWindows()"
   ]
  },
  {
   "cell_type": "code",
   "execution_count": 5,
   "metadata": {},
   "outputs": [
    {
     "name": "stdout",
     "output_type": "stream",
     "text": [
      "340 860\n",
      "85.0 215.0\n",
      "[[  1.   0. 215.]\n",
      " [  0.   1.  85.]]\n"
     ]
    }
   ],
   "source": [
    "img = cv2.imread('D:\\Photos\\Saved Pictures\\slider11.jpg')\n",
    "cv2.imshow(\"Origran Image\",img)\n",
    "\n",
    "height,width = img.shape[:2]\n",
    "print(height,width)\n",
    "\n",
    "quarter_height, quarter_width = height/4 , width/4\n",
    "print(quarter_height,quarter_width)\n",
    "\n",
    "#     [1 0 Tx]\n",
    "# T =[o  1 Ty]\n",
    "\n",
    "# T is Our Translation Matrix\n",
    "T = np.float32([[1,0,quarter_width],\n",
    "              [0,1,quarter_height]])\n",
    "\n",
    "print(T)\n",
    "\n",
    "img_translation = cv2.warpAffine(img,T,(width,height))\n",
    "\n",
    "cv2.imshow(\"Translation Image\",img_translation)\n",
    "\n",
    "cv2.waitKey(0)\n",
    "cv2.destroyAllWindows()"
   ]
  },
  {
   "cell_type": "code",
   "execution_count": 6,
   "metadata": {},
   "outputs": [],
   "source": [
    "# Image Rotation\n",
    "img = cv2.imread('E:\\OpenCvImage\\lena_color.jpg')\n",
    "cv2.imshow(\"Orignal Image\",img)\n",
    "\n",
    "height,width = img.shape[:2]\n",
    "rotation_matrix = cv2.getRotationMatrix2D((width/4,height/4),120,.3)\n",
    "rotated_image = cv2.warpAffine(img,rotation_matrix,(width,height))\n",
    "\n",
    "cv2.imshow('Origal image',img)\n",
    "cv2.imshow('Roteted Image',rotated_image)\n",
    "\n",
    "\n",
    "cv2.waitKey(0)\n",
    "cv2.destroyAllWindows()"
   ]
  },
  {
   "cell_type": "code",
   "execution_count": 7,
   "metadata": {},
   "outputs": [],
   "source": [
    "# Image Transpose\n",
    "img=cv2.imread('D:\\Photos\\Saved Pictures\\slider11.jpg')\n",
    "\n",
    "rotated_img = cv2.transpose(img)\n",
    "\n",
    "cv2.imshow('orignal Image',img)\n",
    "cv2.imshow('Rotated Image',rotated_img)\n",
    "\n",
    "cv2.imwrite('E:\\openCvImage\\Rotated Image.jpg',rotated_img)\n",
    "\n",
    "cv2.waitKey(0)\n",
    "cv2.destroyAllWindows()"
   ]
  },
  {
   "cell_type": "markdown",
   "metadata": {},
   "source": [
    "# Resize Image"
   ]
  },
  {
   "cell_type": "code",
   "execution_count": 3,
   "metadata": {},
   "outputs": [],
   "source": [
    "img=cv2.imread('D:\\Photos\\Saved Pictures\\slider11.jpg')\n",
    "cv2.imshow('orignal Image',img)\n",
    "# Linear Interploatation\n",
    "img_scaled = cv2.resize(img,None,fx=0.75,fy=0.75)\n",
    "cv2.imshow(\"Scalling Linear Interplotation\",img_scaled)\n",
    "# Cubic interplotataion\n",
    "img_scaled1 = cv2.resize(img,None,fx=2,fy=2,interpolation=cv2.INTER_CUBIC)\n",
    "cv2.imshow(\"scaling Cubic Interploatation\",img_scaled1)\n",
    "\n",
    "#Let's skew the re-sizing by setting exact dimensions/user define dimension\n",
    "img_skew=cv2.resize(img,(900,400),interpolation=cv2.INTER_AREA)\n",
    "cv2.imshow('Skew Image',img_skew)\n",
    "\n",
    "cv2.waitKey(0)\n",
    "cv2.destroyAllWindows()"
   ]
  },
  {
   "cell_type": "code",
   "execution_count": 9,
   "metadata": {},
   "outputs": [],
   "source": [
    "smaller = cv2.pyrDown(img)\n",
    "large = cv2.pyrUp(img)\n",
    "cv2.imshow(\"Smallerv image \",smaller)\n",
    "cv2.imshow(\"Large Image \",large)\n",
    "\n",
    "cv2.waitKey(0)\n",
    "cv2.destroyAllWindows()"
   ]
  },
  {
   "cell_type": "code",
   "execution_count": 10,
   "metadata": {},
   "outputs": [
    {
     "name": "stdout",
     "output_type": "stream",
     "text": [
      "(340, 860, 3)\n",
      "340\n",
      "860\n",
      "85\n",
      "215\n",
      "255\n",
      "645\n"
     ]
    }
   ],
   "source": [
    "#Image cropping\n",
    "img = cv2.imread('D:\\Photos\\Saved Pictures\\slider11.jpg')\n",
    "cv2.imshow(\"Orignal Image\",img)\n",
    "print(img.shape)\n",
    "height, width = img.shape[:2]\n",
    "print(height)\n",
    "print(width)\n",
    "#Let's get the starting pixel coordinate(top left,of cropping rectangle)\n",
    "start_row,start_col = int(height*.25),int(width*.25)\n",
    "print(start_row)\n",
    "print(start_col)\n",
    "\n",
    "#let's get the ending pixel coodinate (bottom right)\n",
    "end_row,end_col = int(height*.75),int(width*.75)\n",
    "print(end_row)\n",
    "print(end_col)\n",
    "\n",
    "# Simply use the indexing to crop the image\n",
    "cropped = img[start_row:end_row,start_col:end_col]\n",
    "\n",
    "cv2.imshow(\"Cropped Image\",cropped)\n",
    "\n",
    "cv2.waitKey(0)\n",
    "cv2.destroyAllWindows()"
   ]
  },
  {
   "cell_type": "markdown",
   "metadata": {},
   "source": [
    "# Image Arthemetic "
   ]
  },
  {
   "cell_type": "code",
   "execution_count": 11,
   "metadata": {},
   "outputs": [
    {
     "name": "stdout",
     "output_type": "stream",
     "text": [
      "(340, 860, 3)\n",
      "[135 136 134]\n",
      "[[[150 150 150]\n",
      "  [150 150 150]\n",
      "  [150 150 150]\n",
      "  ...\n",
      "  [150 150 150]\n",
      "  [150 150 150]\n",
      "  [150 150 150]]\n",
      "\n",
      " [[150 150 150]\n",
      "  [150 150 150]\n",
      "  [150 150 150]\n",
      "  ...\n",
      "  [150 150 150]\n",
      "  [150 150 150]\n",
      "  [150 150 150]]\n",
      "\n",
      " [[150 150 150]\n",
      "  [150 150 150]\n",
      "  [150 150 150]\n",
      "  ...\n",
      "  [150 150 150]\n",
      "  [150 150 150]\n",
      "  [150 150 150]]\n",
      "\n",
      " ...\n",
      "\n",
      " [[150 150 150]\n",
      "  [150 150 150]\n",
      "  [150 150 150]\n",
      "  ...\n",
      "  [150 150 150]\n",
      "  [150 150 150]\n",
      "  [150 150 150]]\n",
      "\n",
      " [[150 150 150]\n",
      "  [150 150 150]\n",
      "  [150 150 150]\n",
      "  ...\n",
      "  [150 150 150]\n",
      "  [150 150 150]\n",
      "  [150 150 150]]\n",
      "\n",
      " [[150 150 150]\n",
      "  [150 150 150]\n",
      "  [150 150 150]\n",
      "  ...\n",
      "  [150 150 150]\n",
      "  [150 150 150]\n",
      "  [150 150 150]]]\n"
     ]
    }
   ],
   "source": [
    "img = cv2.imread('D:\\Photos\\Saved Pictures\\slider11.jpg')\n",
    "cv2.imshow(\"Original Image\",img)\n",
    "print(img.shape)\n",
    "print(img[1][2])\n",
    "\n",
    "m=np.ones(img.shape,dtype=\"uint8\") * 150\n",
    "print(m)\n",
    "added = cv2.add(img,m)\n",
    "cv2.imshow(\"Added \",added)\n",
    "\n",
    "subtract = cv2.subtract(img,m)\n",
    "cv2.imshow(\"Subtract\",subtract)\n",
    "\n",
    "mulplay = cv2.multiply(img,m)\n",
    "cv2.imshow(\"Multiplication \",mulplay)\n",
    "    \n",
    "cv2.waitKey()\n",
    "cv2.destroyAllWindows()"
   ]
  },
  {
   "cell_type": "code",
   "execution_count": 13,
   "metadata": {},
   "outputs": [
    {
     "name": "stdout",
     "output_type": "stream",
     "text": [
      "[[0 0 0 ... 0 0 0]\n",
      " [0 0 0 ... 0 0 0]\n",
      " [0 0 0 ... 0 0 0]\n",
      " ...\n",
      " [0 0 0 ... 0 0 0]\n",
      " [0 0 0 ... 0 0 0]\n",
      " [0 0 0 ... 0 0 0]]\n"
     ]
    }
   ],
   "source": [
    "square = np.zeros((300,300),np.uint8)\n",
    "print(square)\n",
    "#rectangle(img,startingPoint,endPoint,color,thinksness)\n",
    "cv2.rectangle(square,(50,50),(250,250),255,-1)\n",
    "cv2.imshow('Square',square)\n",
    "\n",
    "ellips = np.zeros((300,300),np.uint8)\n",
    "cv2.ellipse(ellips,(150,150),(150,150),30,0,180,255,-1)\n",
    "cv2.imshow(\"Ellipse\",ellips)\n",
    "\n",
    "And = cv2.bitwise_and(square,ellips)\n",
    "cv2.imshow(\"And Image\",And)\n",
    "\n",
    "OR = cv2.bitwise_or(square,ellips)\n",
    "cv2.imshow(\"And Image\",OR)\n",
    "\n",
    "XOR = cv2.bitwise_xor(square,ellips)\n",
    "cv2.imshow(\"And Image\",XOR)\n",
    "\n",
    "NOT = cv2.bitwise_not(square)\n",
    "cv2.imshow(\"And Image\",NOT)\n",
    "\n",
    "\n",
    "cv2.waitKey(0)\n",
    "cv2.destroyAllWindows()"
   ]
  },
  {
   "cell_type": "markdown",
   "metadata": {},
   "source": [
    "# Image Blurring\n"
   ]
  },
  {
   "cell_type": "code",
   "execution_count": 10,
   "metadata": {},
   "outputs": [],
   "source": [
    "cv2.imshow(\"Original Image\",img)\n",
    "# creating 3 x 3 kernal\n",
    "# We use the cv2.filter2D to convert the kernal with on image\n",
    "kernal_3x3 = np.ones((3,3),np.float32)/9\n",
    "\n",
    "blurred = cv2.filter2D(img,-1,kernal_3x3)\n",
    "cv2.imshow(\"3x3 kernal Image \",blurred)\n",
    "\n",
    "# creating 3 x 3 kernal\n",
    "# We use the cv2.filter2D to convert the kernal with on image\n",
    "kernal_7x7 = np.ones((7,7),np.float32)/49\n",
    "\n",
    "blurred2 = cv2.filter2D(img,-1,kernal_7x7)\n",
    "cv2.imshow(\"7x7 kernal Image \",blurred2)\n",
    "\n",
    "cv2.waitKey(0)\n",
    "cv2.destroyAllWindows()"
   ]
  },
  {
   "cell_type": "markdown",
   "metadata": {},
   "source": [
    "# Image Blurring Using other technique"
   ]
  },
  {
   "cell_type": "code",
   "execution_count": 6,
   "metadata": {},
   "outputs": [],
   "source": [
    "cv2.imshow(\"Original Image\",img)\n",
    "\n",
    "blur = cv2.blur(img,(7,7))\n",
    "cv2.imshow(\"Blur Image\",blur)\n",
    "\n",
    "#Insted of using Box filter use gaussinan kernel\n",
    "\n",
    "Gaussian = cv2.GaussianBlur(img,(7,7),0)\n",
    "cv2.imshow(\"Gaussian Blur \",Gaussian)\n",
    "\n",
    "#Take median of all the pixels under kernel area and central\n",
    "#element is replaced with this median value\n",
    "\n",
    "#median = cv2.medianBlur(img,5)\n",
    "#cv2.imshow(\"Median Blur Image\",median)\n",
    "\n",
    "#Bilateral is very effective in nose removal\n",
    "#bilateral = cv2.bilaterlFilter(img,9,75,75)\n",
    "#cv2.imshow('Bilateral Blur Image',bilateral)\n",
    "\n",
    "cv2.waitKey(0)\n",
    "cv2.destroyAllWindows()"
   ]
  },
  {
   "cell_type": "code",
   "execution_count": null,
   "metadata": {},
   "outputs": [],
   "source": []
  }
 ],
 "metadata": {
  "kernelspec": {
   "display_name": "Python 3",
   "language": "python",
   "name": "python3"
  },
  "language_info": {
   "codemirror_mode": {
    "name": "ipython",
    "version": 3
   },
   "file_extension": ".py",
   "mimetype": "text/x-python",
   "name": "python",
   "nbconvert_exporter": "python",
   "pygments_lexer": "ipython3",
   "version": "3.6.5"
  }
 },
 "nbformat": 4,
 "nbformat_minor": 2
}
