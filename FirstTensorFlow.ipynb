{
 "cells": [
  {
   "cell_type": "code",
   "execution_count": 8,
   "metadata": {},
   "outputs": [],
   "source": [
    "import tensorflow as tf"
   ]
  },
  {
   "cell_type": "code",
   "execution_count": 18,
   "metadata": {},
   "outputs": [
    {
     "name": "stdout",
     "output_type": "stream",
     "text": [
      "b'Hello, TensorFlow!'\n"
     ]
    }
   ],
   "source": [
    "import tensorflow as tf\n",
    "\n",
    "tf.compat.v1.disable_eager_execution()\n",
    "\n",
    "hello = tf.constant('Hello, TensorFlow!')\n",
    "\n",
    "sess = tf.compat.v1.Session()\n",
    "\n",
    "print(sess.run(hello))"
   ]
  },
  {
   "cell_type": "code",
   "execution_count": 19,
   "metadata": {},
   "outputs": [
    {
     "name": "stdout",
     "output_type": "stream",
     "text": [
      "OUT is  14\n"
     ]
    }
   ],
   "source": [
    "a = tf.constant(2)\n",
    "b = tf.constant(7)\n",
    "c= a * b\n",
    "\n",
    "sess = tf.compat.v1.Session()\n",
    "print(\"OUT is \",sess.run(c))"
   ]
  },
  {
   "cell_type": "code",
   "execution_count": 23,
   "metadata": {},
   "outputs": [
    {
     "name": "stdout",
     "output_type": "stream",
     "text": [
      "updated list :  [1, 2, 3, 4, 5, 6, 3]\n",
      "[1, 2, 3, 4, 5, 6, 3, 1]\n",
      "[1, 2, 3, 4, 5, 6, 3, 1, 1]\n",
      "[1, 2, 3, 4, 5, 6, 3, 1, 1, 1]\n",
      "[1, 2, 3, 4, 5, 6, 3, 1, 1, 1, 1]\n",
      "[1, 2, 3, 4, 5, 6, 3, 1, 1, 1, 1, 1]\n"
     ]
    }
   ],
   "source": [
    "list1 = [1,2,3,4,5,6] \n",
    "list1.append(3) \n",
    "print (\"updated list : \", list1) \n",
    "\n",
    "for i in range(5):\n",
    "    list1.append(1)\n",
    "    print(list1)\n",
    "    \n",
    "\n",
    "\n"
   ]
  },
  {
   "cell_type": "code",
   "execution_count": null,
   "metadata": {},
   "outputs": [],
   "source": []
  },
  {
   "cell_type": "code",
   "execution_count": null,
   "metadata": {},
   "outputs": [],
   "source": []
  }
 ],
 "metadata": {
  "kernelspec": {
   "display_name": "Python 3",
   "language": "python",
   "name": "python3"
  },
  "language_info": {
   "codemirror_mode": {
    "name": "ipython",
    "version": 3
   },
   "file_extension": ".py",
   "mimetype": "text/x-python",
   "name": "python",
   "nbconvert_exporter": "python",
   "pygments_lexer": "ipython3",
   "version": "3.6.5"
  }
 },
 "nbformat": 4,
 "nbformat_minor": 2
}
