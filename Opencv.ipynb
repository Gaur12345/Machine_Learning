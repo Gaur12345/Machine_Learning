{
 "cells": [
  {
   "cell_type": "code",
   "execution_count": 2,
   "metadata": {},
   "outputs": [],
   "source": [
    "import cv2"
   ]
  },
  {
   "cell_type": "code",
   "execution_count": 2,
   "metadata": {},
   "outputs": [
    {
     "data": {
      "text/plain": [
       "'3.4.1'"
      ]
     },
     "execution_count": 2,
     "metadata": {},
     "output_type": "execute_result"
    }
   ],
   "source": [
    "cv2.__version__"
   ]
  },
  {
   "cell_type": "code",
   "execution_count": 3,
   "metadata": {
    "scrolled": true
   },
   "outputs": [
    {
     "ename": "SyntaxError",
     "evalue": "invalid syntax (<ipython-input-3-2b7947be65c2>, line 1)",
     "output_type": "error",
     "traceback": [
      "\u001b[1;36m  File \u001b[1;32m\"<ipython-input-3-2b7947be65c2>\"\u001b[1;36m, line \u001b[1;32m1\u001b[0m\n\u001b[1;33m    environment location: C:\\Users\\hp\\Anaconda3\\envs\\opencv-env\u001b[0m\n\u001b[1;37m                       ^\u001b[0m\n\u001b[1;31mSyntaxError\u001b[0m\u001b[1;31m:\u001b[0m invalid syntax\n"
     ]
    }
   ],
   "source": [
    "environment location: C:\\Users\\hp\\Anaconda3\\envs\\opencv-env"
   ]
  },
  {
   "cell_type": "code",
   "execution_count": 3,
   "metadata": {},
   "outputs": [],
   "source": [
    "#Read The Image\n",
    "img = cv2.imread('D:\\Photos\\Saved Pictures\\slider11.jpg')\n",
    "cv2.imshow('output Image',img)\n",
    "cv2.waitKey(0)\n",
    "cv2.destroyAllWindows()"
   ]
  },
  {
   "cell_type": "code",
   "execution_count": 14,
   "metadata": {},
   "outputs": [],
   "source": [
    "#Write The Image\n",
    "img = cv2.imread('D:\\Photos\\Saved Pictures\\slider11.jpg')\n",
    "cv2.imshow('Orignal Image',img)\n",
    "\n",
    "cv2.imwrite('image/output.jpg',img)\n",
    "cv2.imwrite('image/output.png',img)\n",
    "\n",
    "cv2.waitKey(0)\n",
    "cv2.destroyAllWindows()\n",
    "\n"
   ]
  },
  {
   "cell_type": "code",
   "execution_count": 9,
   "metadata": {},
   "outputs": [
    {
     "name": "stdout",
     "output_type": "stream",
     "text": [
      "(320, 701, 3)\n",
      "Height pixel value : 320\n",
      "Width pixel value : 701\n",
      "layer pixel value : 3\n"
     ]
    }
   ],
   "source": [
    "#Image Info\n",
    "img=cv2.imread('D:\\Photos\\Saved Pictures\\koko.jpg')\n",
    "cv2.imshow('Orignal Image',img)\n",
    "\n",
    "print(img.shape)\n",
    "print(\"Height pixel value :\",img.shape[0])\n",
    "print(\"Width pixel value :\",img.shape[1])\n",
    "print(\"layer pixel value :\",img.shape[2])\n",
    "\n",
    "cv2.waitKey(0)\n",
    "cv2.destroyAllWindows()"
   ]
  },
  {
   "cell_type": "code",
   "execution_count": 17,
   "metadata": {},
   "outputs": [],
   "source": [
    "#GrayScale Image Frist Method\n",
    "img =cv2.imread('D:\\Photos\\Saved Pictures\\koko.jpg')\n",
    "cv2.imshow('orignal Image',img)\n",
    "cv2.waitKey(0)\n",
    "\n",
    "gray_img=cv2.cvtColor(img,cv2.COLOR_BGR2GRAY)\n",
    "cv2.imshow(\"Gary Scale Image\",gray_img)\n",
    "cv2.imwrite('E:\\openCvImage\\grayimage.jpg',gray_img)\n",
    "\n",
    "cv2.waitKey(0)\n",
    "cv2.destroyAllWindows()"
   ]
  },
  {
   "cell_type": "code",
   "execution_count": 11,
   "metadata": {},
   "outputs": [
    {
     "data": {
      "text/plain": [
       "-1"
      ]
     },
     "execution_count": 11,
     "metadata": {},
     "output_type": "execute_result"
    }
   ],
   "source": [
    "#GrayScale Image second Method\n",
    "img =cv2.imread('D:\\Photos\\Saved Pictures\\koko.jpg',0)\n",
    "cv2.imshow('Gray scale Image',img)\n",
    "cv2.waitKey(0)"
   ]
  },
  {
   "cell_type": "code",
   "execution_count": 11,
   "metadata": {},
   "outputs": [
    {
     "name": "stdout",
     "output_type": "stream",
     "text": [
      "127.0\n",
      "[[255 255 255 ... 255 255 255]\n",
      " [255 255 255 ... 255 255 255]\n",
      " [255 255 255 ... 255 255 255]\n",
      " ...\n",
      " [  0   0   0 ...   0   0   0]\n",
      " [  0   0   0 ...   0   0   0]\n",
      " [  0   0   0 ...   0   0   0]]\n"
     ]
    }
   ],
   "source": [
    "#BINARY IMAGE Method\n",
    "img=cv2.imread('D:\\Photos\\Saved Pictures\\koko.jpg',0)\n",
    "cv2.imshow('Gray Image',img)\n",
    "cv2.waitKey(0)\n",
    "\n",
    "ret ,bw = cv2.threshold(img,127,255,cv2.THRESH_BINARY)\n",
    "cv2.imshow(\"BINARY IMAGE\",bw)\n",
    "\n",
    "cv2.imwrite('E:\\openCvImage\\Binary image.jpg',bw)\n",
    "cv2.waitKey(0)\n",
    "cv2.destroyAllWindows()\n",
    "print(ret)\n",
    "print(bw)"
   ]
  },
  {
   "cell_type": "code",
   "execution_count": null,
   "metadata": {},
   "outputs": [],
   "source": []
  }
 ],
 "metadata": {
  "kernelspec": {
   "display_name": "Python 3",
   "language": "python",
   "name": "python3"
  },
  "language_info": {
   "codemirror_mode": {
    "name": "ipython",
    "version": 3
   },
   "file_extension": ".py",
   "mimetype": "text/x-python",
   "name": "python",
   "nbconvert_exporter": "python",
   "pygments_lexer": "ipython3",
   "version": "3.6.5"
  }
 },
 "nbformat": 4,
 "nbformat_minor": 2
}
