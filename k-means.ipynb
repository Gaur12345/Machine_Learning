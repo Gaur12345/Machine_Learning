{
 "cells": [
  {
   "cell_type": "code",
   "execution_count": 3,
   "metadata": {},
   "outputs": [],
   "source": [
    "import numpy as np\n",
    "import pandas as pd\n",
    "import matplotlib.pyplot as plt\n",
    "import seaborn as sns\n",
    "from sklearn import datasets\n",
    "sns.set_style(\"darkgrid\")\n",
    "%matplotlib inline"
   ]
  },
  {
   "cell_type": "code",
   "execution_count": 9,
   "metadata": {},
   "outputs": [],
   "source": [
    "sample_data=datasets.make_blobs(n_samples=200,n_features=2,cluster_std=1.2,centers=3,random_state=101)"
   ]
  },
  {
   "cell_type": "code",
   "execution_count": 10,
   "metadata": {},
   "outputs": [
    {
     "data": {
      "text/plain": [
       "(array([[  1.78653484,   4.19533362],\n",
       "        [ -9.89982223,  -4.47739454],\n",
       "        [  0.02569621,   0.71960743],\n",
       "        [ -1.33153156,   3.19234633],\n",
       "        [-10.99829424,  -8.52907567],\n",
       "        [ -0.59762177,   1.54592463],\n",
       "        [  4.91432859,   7.07367764],\n",
       "        [ -0.86394365,   1.64951114],\n",
       "        [-10.66600806,  -8.39939352],\n",
       "        [  0.55440693,   0.50270527],\n",
       "        [  2.27190044,   6.5036597 ],\n",
       "        [  1.10931409,   1.03017008],\n",
       "        [  1.09813917,   0.32723186],\n",
       "        [  4.83368396,   7.57340272],\n",
       "        [  4.35853072,   7.51589213],\n",
       "        [  1.09451697,   1.8089273 ],\n",
       "        [ -9.5376736 ,  -5.73128719],\n",
       "        [  1.48172234,  -1.15610301],\n",
       "        [-12.71490899,  -4.74249234],\n",
       "        [ -9.01826845,  -6.3340365 ],\n",
       "        [  4.36889281,   6.44932388],\n",
       "        [ -8.46796023,  -8.57061101],\n",
       "        [ -8.50415142,  -6.21650692],\n",
       "        [  3.51920873,   5.46206364],\n",
       "        [ -7.32809816,  -5.73491081],\n",
       "        [  1.10694985,   1.84408037],\n",
       "        [ -2.09382934,   2.30149821],\n",
       "        [-10.45634735,  -4.64618823],\n",
       "        [ -9.77282359,  -4.0609199 ],\n",
       "        [  3.68636992,   4.95818054],\n",
       "        [ -0.92816289,   2.96466923],\n",
       "        [ -0.87825175,   0.52320409],\n",
       "        [ -0.78307656,   3.6487887 ],\n",
       "        [ -9.76592773,  -5.29431438],\n",
       "        [ -9.67746623,  -3.57677865],\n",
       "        [  5.86432749,   5.10251286],\n",
       "        [  2.76235573,   7.85534058],\n",
       "        [  2.15566861,   7.87913989],\n",
       "        [ -8.95836256,  -7.32617484],\n",
       "        [  4.49877467,   6.27843229],\n",
       "        [-10.59618655,  -8.39636632],\n",
       "        [-11.2901208 ,  -6.04726337],\n",
       "        [  1.55915354,   1.22543425],\n",
       "        [-10.60093469,  -7.83538759],\n",
       "        [  3.33537358,   5.66745746],\n",
       "        [ -0.12384986,   1.68975535],\n",
       "        [  0.52210998,   2.41298693],\n",
       "        [  5.25381555,   4.90395402],\n",
       "        [  1.19291767,  -0.05434671],\n",
       "        [  3.47069641,   5.8953939 ],\n",
       "        [ -7.5275406 ,  -5.45397747],\n",
       "        [ -1.33448171,  -0.18224033],\n",
       "        [-10.60984667,  -3.89170058],\n",
       "        [  5.51723605,   6.8875571 ],\n",
       "        [  3.45513329,   2.2335624 ],\n",
       "        [  0.13293087,   1.99632222],\n",
       "        [  3.54256462,   5.82513685],\n",
       "        [  3.85684252,   7.23719023],\n",
       "        [  2.40061657,   3.59661695],\n",
       "        [-10.12697505,  -5.11873413],\n",
       "        [ -9.21690456,  -7.32173336],\n",
       "        [-10.54436127,  -5.5532822 ],\n",
       "        [ -9.58880283,  -8.17167696],\n",
       "        [ -8.36367841,  -8.77667991],\n",
       "        [  2.25610839,   0.07449978],\n",
       "        [-10.91325258,  -7.52768043],\n",
       "        [  3.48725521,   5.95405469],\n",
       "        [ -8.34712444,  -7.21505786],\n",
       "        [-11.10033834,  -6.39258311],\n",
       "        [-10.08722734,  -5.97349453],\n",
       "        [  0.18784457,   3.69545749],\n",
       "        [ -9.14612071,  -6.32863031],\n",
       "        [  0.64234733,   6.63962488],\n",
       "        [  1.20280103,   0.37764221],\n",
       "        [  3.74584809,   6.41368773],\n",
       "        [ -8.47756126,  -4.9379125 ],\n",
       "        [  5.13510537,   7.08669819],\n",
       "        [  1.44496917,   5.10096664],\n",
       "        [ -0.68971983,   2.14051016],\n",
       "        [  1.12755574,   0.76747019],\n",
       "        [ -6.99506245,  -7.82519694],\n",
       "        [ -8.24398806,  -5.9529676 ],\n",
       "        [ -7.98842264,  -7.55412267],\n",
       "        [  0.96254875,   0.7065511 ],\n",
       "        [  2.91378829,   0.68104111],\n",
       "        [  0.29057998,   3.74127051],\n",
       "        [-10.30587507,  -7.43369857],\n",
       "        [ -1.68596784,   1.81411946],\n",
       "        [  1.26795182,   0.56260725],\n",
       "        [  1.03218931,  -0.53226565],\n",
       "        [ -8.69988672,  -6.22579929],\n",
       "        [  4.07399469,   7.31384957],\n",
       "        [  1.14542371,   2.65550183],\n",
       "        [ -8.07007188,  -5.93574279],\n",
       "        [  1.64758451,   8.2979922 ],\n",
       "        [  4.81016984,   8.29690228],\n",
       "        [  6.20767871,   6.32775126],\n",
       "        [  3.98347063,   6.86443152],\n",
       "        [  1.5190607 ,   2.8440405 ],\n",
       "        [  0.37772449,   0.92008525],\n",
       "        [  0.50440468,   0.83801409],\n",
       "        [ -0.1414154 ,   2.64730353],\n",
       "        [  2.59121691,   8.73707745],\n",
       "        [  0.79895913,   1.67914056],\n",
       "        [ -8.52556975,  -7.49601565],\n",
       "        [  3.98164409,   7.42032684],\n",
       "        [ -9.47183343,  -5.74347677],\n",
       "        [-11.10846308,  -6.83273973],\n",
       "        [  0.55692574,   3.78786053],\n",
       "        [  4.19464337,   7.64734854],\n",
       "        [  2.70814553,   6.08520767],\n",
       "        [ -9.24612247,  -6.36840098],\n",
       "        [ -9.33268744,  -7.06779621],\n",
       "        [  3.17049229,   7.50098577],\n",
       "        [  2.16795528,   8.21001499],\n",
       "        [  3.25210584,   9.02444112],\n",
       "        [  5.39416625,   6.75110222],\n",
       "        [ -1.03260804,   2.14592523],\n",
       "        [  7.04755124,   8.5064378 ],\n",
       "        [  0.6137249 ,   3.80933448],\n",
       "        [ -9.69437333,  -6.21821272],\n",
       "        [  0.79120893,   3.91417397],\n",
       "        [-10.34963156,  -5.41480787],\n",
       "        [  4.26165264,   4.0302068 ],\n",
       "        [  0.69117109,   3.44581925],\n",
       "        [  1.36497041,  -0.459766  ],\n",
       "        [  1.24246413,   6.47796191],\n",
       "        [  5.32770809,   6.98655671],\n",
       "        [  4.74191426,   5.80584846],\n",
       "        [  2.72525214,   6.82468118],\n",
       "        [  0.16616369,   1.88198515],\n",
       "        [ -8.07449381,  -5.4922113 ],\n",
       "        [ -9.88663967,  -8.56883789],\n",
       "        [  1.99342941,   8.19050778],\n",
       "        [ -9.20794069,  -7.76238883],\n",
       "        [  3.6440962 ,   6.15098362],\n",
       "        [-10.39392728,  -6.87374213],\n",
       "        [ -0.69826269,   3.26374023],\n",
       "        [ -9.63938332,  -5.63339922],\n",
       "        [ -9.78863836,  -6.5345971 ],\n",
       "        [ -9.03710178,  -5.76018465],\n",
       "        [  2.67557458,   6.41128496],\n",
       "        [  4.25675132,   7.38055247],\n",
       "        [ -6.83201013,  -8.09025509],\n",
       "        [  0.99849584,   2.64312407],\n",
       "        [  0.56500134,   4.17693646],\n",
       "        [  6.82702775,   5.9428749 ],\n",
       "        [  2.67630409,   6.22974304],\n",
       "        [  1.90429015,   7.94796556],\n",
       "        [  4.47969849,   6.32077275],\n",
       "        [ -1.71933056,   0.02240844],\n",
       "        [  0.4217823 ,   5.49575383],\n",
       "        [ -2.03915357,   0.37308969],\n",
       "        [  5.20907199,   5.41992045],\n",
       "        [-10.09156667,  -5.4391129 ],\n",
       "        [ -8.39420075,  -7.86147548],\n",
       "        [-10.7278574 ,  -6.56999283],\n",
       "        [ -0.35432508,   3.10215763],\n",
       "        [ -7.91863104,  -7.1070449 ],\n",
       "        [  0.52825812,   1.63475397],\n",
       "        [  0.55252198,   0.53393756],\n",
       "        [  1.85466836,   5.69260576],\n",
       "        [  1.14101469,   1.44467831],\n",
       "        [  5.7083527 ,   8.4541145 ],\n",
       "        [ -0.26855227,   0.5084681 ],\n",
       "        [  2.00040026,   7.06392875],\n",
       "        [  3.84303669,   6.23575226],\n",
       "        [  0.29007758,   2.19314274],\n",
       "        [  3.14303209,   7.7100537 ],\n",
       "        [  1.29721965,   1.50090335],\n",
       "        [  4.20643383,   8.20586048],\n",
       "        [  3.11163867,   6.76406122],\n",
       "        [ -0.80411513,   1.99505371],\n",
       "        [  3.53602016,   6.78057182],\n",
       "        [ -8.42929004,  -6.73808507],\n",
       "        [  3.96262067,   6.38932532],\n",
       "        [ -9.58097243,  -7.70427263],\n",
       "        [ -8.22564809,  -5.33126784],\n",
       "        [  4.61243027,   8.78768335],\n",
       "        [  0.69473037,   1.70516487],\n",
       "        [  1.49883617,   0.9474653 ],\n",
       "        [  3.72176293,   4.09015207],\n",
       "        [ -0.9685932 ,   2.49622905],\n",
       "        [-10.7477471 ,  -8.85917746],\n",
       "        [ -0.31099208,   3.9546246 ],\n",
       "        [ -9.03347673,  -7.84522555],\n",
       "        [ -9.31816189,  -5.08059174],\n",
       "        [ -0.57841785,   0.99764953],\n",
       "        [ -9.36612172,  -9.10770259],\n",
       "        [ -9.11106734,  -6.07447068],\n",
       "        [  3.84851359,   7.47679476],\n",
       "        [  5.93150023,   7.28063766],\n",
       "        [ -9.89042523,  -7.06074906],\n",
       "        [ -0.79191211,   2.55941955],\n",
       "        [-11.12146629,  -5.52447846],\n",
       "        [ -9.32167698,  -4.98350846],\n",
       "        [ -9.48532725,  -6.55466169],\n",
       "        [ -1.03600096,   1.41379151],\n",
       "        [ -0.63760926,   1.71760939],\n",
       "        [ -1.43304427,   0.82043731]]),\n",
       " array([2, 1, 0, 0, 1, 0, 2, 0, 1, 0, 2, 0, 0, 2, 2, 0, 1, 0, 1, 1, 2, 1,\n",
       "        1, 2, 1, 0, 0, 1, 1, 2, 0, 0, 0, 1, 1, 2, 2, 2, 1, 2, 1, 1, 0, 1,\n",
       "        2, 0, 0, 2, 0, 2, 1, 0, 1, 2, 0, 0, 2, 2, 2, 1, 1, 1, 1, 1, 0, 1,\n",
       "        2, 1, 1, 1, 0, 1, 2, 0, 2, 1, 2, 2, 0, 0, 1, 1, 1, 0, 0, 0, 1, 0,\n",
       "        0, 0, 1, 2, 0, 1, 2, 2, 2, 2, 0, 0, 0, 0, 2, 0, 1, 2, 1, 1, 0, 2,\n",
       "        2, 1, 1, 2, 2, 2, 2, 0, 2, 0, 1, 0, 1, 2, 0, 0, 2, 2, 2, 2, 0, 1,\n",
       "        1, 2, 1, 2, 1, 0, 1, 1, 1, 2, 2, 1, 0, 0, 2, 2, 2, 2, 0, 2, 0, 2,\n",
       "        1, 1, 1, 0, 1, 0, 0, 2, 0, 2, 0, 2, 2, 0, 2, 0, 2, 2, 0, 2, 1, 2,\n",
       "        1, 1, 2, 0, 0, 2, 0, 1, 0, 1, 1, 0, 1, 1, 2, 2, 1, 0, 1, 1, 1, 0,\n",
       "        0, 0]))"
      ]
     },
     "execution_count": 10,
     "metadata": {},
     "output_type": "execute_result"
    }
   ],
   "source": [
    "sample_data"
   ]
  },
  {
   "cell_type": "code",
   "execution_count": 15,
   "metadata": {},
   "outputs": [
    {
     "data": {
      "text/plain": [
       "<matplotlib.collections.PathCollection at 0x2631d2c25f8>"
      ]
     },
     "execution_count": 15,
     "metadata": {},
     "output_type": "execute_result"
    },
    {
     "data": {
      "image/png": "[encoded data removed]",
      "text/plain": [
       "<Figure size 432x288 with 1 Axes>"
      ]
     },
     "metadata": {},
     "output_type": "display_data"
    }
   ],
   "source": [
    "plt.scatter(sample_data[0][:,0],sample_data[0][:,1],c=sample_data[1],cmap=\"gray\")"
   ]
  },
  {
   "cell_type": "code",
   "execution_count": 16,
   "metadata": {},
   "outputs": [
    {
     "data": {
      "text/plain": [
       "array([[  1.78653484,   4.19533362],\n",
       "       [ -9.89982223,  -4.47739454],\n",
       "       [  0.02569621,   0.71960743],\n",
       "       [ -1.33153156,   3.19234633],\n",
       "       [-10.99829424,  -8.52907567],\n",
       "       [ -0.59762177,   1.54592463],\n",
       "       [  4.91432859,   7.07367764],\n",
       "       [ -0.86394365,   1.64951114],\n",
       "       [-10.66600806,  -8.39939352],\n",
       "       [  0.55440693,   0.50270527],\n",
       "       [  2.27190044,   6.5036597 ],\n",
       "       [  1.10931409,   1.03017008],\n",
       "       [  1.09813917,   0.32723186],\n",
       "       [  4.83368396,   7.57340272],\n",
       "       [  4.35853072,   7.51589213],\n",
       "       [  1.09451697,   1.8089273 ],\n",
       "       [ -9.5376736 ,  -5.73128719],\n",
       "       [  1.48172234,  -1.15610301],\n",
       "       [-12.71490899,  -4.74249234],\n",
       "       [ -9.01826845,  -6.3340365 ],\n",
       "       [  4.36889281,   6.44932388],\n",
       "       [ -8.46796023,  -8.57061101],\n",
       "       [ -8.50415142,  -6.21650692],\n",
       "       [  3.51920873,   5.46206364],\n",
       "       [ -7.32809816,  -5.73491081],\n",
       "       [  1.10694985,   1.84408037],\n",
       "       [ -2.09382934,   2.30149821],\n",
       "       [-10.45634735,  -4.64618823],\n",
       "       [ -9.77282359,  -4.0609199 ],\n",
       "       [  3.68636992,   4.95818054],\n",
       "       [ -0.92816289,   2.96466923],\n",
       "       [ -0.87825175,   0.52320409],\n",
       "       [ -0.78307656,   3.6487887 ],\n",
       "       [ -9.76592773,  -5.29431438],\n",
       "       [ -9.67746623,  -3.57677865],\n",
       "       [  5.86432749,   5.10251286],\n",
       "       [  2.76235573,   7.85534058],\n",
       "       [  2.15566861,   7.87913989],\n",
       "       [ -8.95836256,  -7.32617484],\n",
       "       [  4.49877467,   6.27843229],\n",
       "       [-10.59618655,  -8.39636632],\n",
       "       [-11.2901208 ,  -6.04726337],\n",
       "       [  1.55915354,   1.22543425],\n",
       "       [-10.60093469,  -7.83538759],\n",
       "       [  3.33537358,   5.66745746],\n",
       "       [ -0.12384986,   1.68975535],\n",
       "       [  0.52210998,   2.41298693],\n",
       "       [  5.25381555,   4.90395402],\n",
       "       [  1.19291767,  -0.05434671],\n",
       "       [  3.47069641,   5.8953939 ],\n",
       "       [ -7.5275406 ,  -5.45397747],\n",
       "       [ -1.33448171,  -0.18224033],\n",
       "       [-10.60984667,  -3.89170058],\n",
       "       [  5.51723605,   6.8875571 ],\n",
       "       [  3.45513329,   2.2335624 ],\n",
       "       [  0.13293087,   1.99632222],\n",
       "       [  3.54256462,   5.82513685],\n",
       "       [  3.85684252,   7.23719023],\n",
       "       [  2.40061657,   3.59661695],\n",
       "       [-10.12697505,  -5.11873413],\n",
       "       [ -9.21690456,  -7.32173336],\n",
       "       [-10.54436127,  -5.5532822 ],\n",
       "       [ -9.58880283,  -8.17167696],\n",
       "       [ -8.36367841,  -8.77667991],\n",
       "       [  2.25610839,   0.07449978],\n",
       "       [-10.91325258,  -7.52768043],\n",
       "       [  3.48725521,   5.95405469],\n",
       "       [ -8.34712444,  -7.21505786],\n",
       "       [-11.10033834,  -6.39258311],\n",
       "       [-10.08722734,  -5.97349453],\n",
       "       [  0.18784457,   3.69545749],\n",
       "       [ -9.14612071,  -6.32863031],\n",
       "       [  0.64234733,   6.63962488],\n",
       "       [  1.20280103,   0.37764221],\n",
       "       [  3.74584809,   6.41368773],\n",
       "       [ -8.47756126,  -4.9379125 ],\n",
       "       [  5.13510537,   7.08669819],\n",
       "       [  1.44496917,   5.10096664],\n",
       "       [ -0.68971983,   2.14051016],\n",
       "       [  1.12755574,   0.76747019],\n",
       "       [ -6.99506245,  -7.82519694],\n",
       "       [ -8.24398806,  -5.9529676 ],\n",
       "       [ -7.98842264,  -7.55412267],\n",
       "       [  0.96254875,   0.7065511 ],\n",
       "       [  2.91378829,   0.68104111],\n",
       "       [  0.29057998,   3.74127051],\n",
       "       [-10.30587507,  -7.43369857],\n",
       "       [ -1.68596784,   1.81411946],\n",
       "       [  1.26795182,   0.56260725],\n",
       "       [  1.03218931,  -0.53226565],\n",
       "       [ -8.69988672,  -6.22579929],\n",
       "       [  4.07399469,   7.31384957],\n",
       "       [  1.14542371,   2.65550183],\n",
       "       [ -8.07007188,  -5.93574279],\n",
       "       [  1.64758451,   8.2979922 ],\n",
       "       [  4.81016984,   8.29690228],\n",
       "       [  6.20767871,   6.32775126],\n",
       "       [  3.98347063,   6.86443152],\n",
       "       [  1.5190607 ,   2.8440405 ],\n",
       "       [  0.37772449,   0.92008525],\n",
       "       [  0.50440468,   0.83801409],\n",
       "       [ -0.1414154 ,   2.64730353],\n",
       "       [  2.59121691,   8.73707745],\n",
       "       [  0.79895913,   1.67914056],\n",
       "       [ -8.52556975,  -7.49601565],\n",
       "       [  3.98164409,   7.42032684],\n",
       "       [ -9.47183343,  -5.74347677],\n",
       "       [-11.10846308,  -6.83273973],\n",
       "       [  0.55692574,   3.78786053],\n",
       "       [  4.19464337,   7.64734854],\n",
       "       [  2.70814553,   6.08520767],\n",
       "       [ -9.24612247,  -6.36840098],\n",
       "       [ -9.33268744,  -7.06779621],\n",
       "       [  3.17049229,   7.50098577],\n",
       "       [  2.16795528,   8.21001499],\n",
       "       [  3.25210584,   9.02444112],\n",
       "       [  5.39416625,   6.75110222],\n",
       "       [ -1.03260804,   2.14592523],\n",
       "       [  7.04755124,   8.5064378 ],\n",
       "       [  0.6137249 ,   3.80933448],\n",
       "       [ -9.69437333,  -6.21821272],\n",
       "       [  0.79120893,   3.91417397],\n",
       "       [-10.34963156,  -5.41480787],\n",
       "       [  4.26165264,   4.0302068 ],\n",
       "       [  0.69117109,   3.44581925],\n",
       "       [  1.36497041,  -0.459766  ],\n",
       "       [  1.24246413,   6.47796191],\n",
       "       [  5.32770809,   6.98655671],\n",
       "       [  4.74191426,   5.80584846],\n",
       "       [  2.72525214,   6.82468118],\n",
       "       [  0.16616369,   1.88198515],\n",
       "       [ -8.07449381,  -5.4922113 ],\n",
       "       [ -9.88663967,  -8.56883789],\n",
       "       [  1.99342941,   8.19050778],\n",
       "       [ -9.20794069,  -7.76238883],\n",
       "       [  3.6440962 ,   6.15098362],\n",
       "       [-10.39392728,  -6.87374213],\n",
       "       [ -0.69826269,   3.26374023],\n",
       "       [ -9.63938332,  -5.63339922],\n",
       "       [ -9.78863836,  -6.5345971 ],\n",
       "       [ -9.03710178,  -5.76018465],\n",
       "       [  2.67557458,   6.41128496],\n",
       "       [  4.25675132,   7.38055247],\n",
       "       [ -6.83201013,  -8.09025509],\n",
       "       [  0.99849584,   2.64312407],\n",
       "       [  0.56500134,   4.17693646],\n",
       "       [  6.82702775,   5.9428749 ],\n",
       "       [  2.67630409,   6.22974304],\n",
       "       [  1.90429015,   7.94796556],\n",
       "       [  4.47969849,   6.32077275],\n",
       "       [ -1.71933056,   0.02240844],\n",
       "       [  0.4217823 ,   5.49575383],\n",
       "       [ -2.03915357,   0.37308969],\n",
       "       [  5.20907199,   5.41992045],\n",
       "       [-10.09156667,  -5.4391129 ],\n",
       "       [ -8.39420075,  -7.86147548],\n",
       "       [-10.7278574 ,  -6.56999283],\n",
       "       [ -0.35432508,   3.10215763],\n",
       "       [ -7.91863104,  -7.1070449 ],\n",
       "       [  0.52825812,   1.63475397],\n",
       "       [  0.55252198,   0.53393756],\n",
       "       [  1.85466836,   5.69260576],\n",
       "       [  1.14101469,   1.44467831],\n",
       "       [  5.7083527 ,   8.4541145 ],\n",
       "       [ -0.26855227,   0.5084681 ],\n",
       "       [  2.00040026,   7.06392875],\n",
       "       [  3.84303669,   6.23575226],\n",
       "       [  0.29007758,   2.19314274],\n",
       "       [  3.14303209,   7.7100537 ],\n",
       "       [  1.29721965,   1.50090335],\n",
       "       [  4.20643383,   8.20586048],\n",
       "       [  3.11163867,   6.76406122],\n",
       "       [ -0.80411513,   1.99505371],\n",
       "       [  3.53602016,   6.78057182],\n",
       "       [ -8.42929004,  -6.73808507],\n",
       "       [  3.96262067,   6.38932532],\n",
       "       [ -9.58097243,  -7.70427263],\n",
       "       [ -8.22564809,  -5.33126784],\n",
       "       [  4.61243027,   8.78768335],\n",
       "       [  0.69473037,   1.70516487],\n",
       "       [  1.49883617,   0.9474653 ],\n",
       "       [  3.72176293,   4.09015207],\n",
       "       [ -0.9685932 ,   2.49622905],\n",
       "       [-10.7477471 ,  -8.85917746],\n",
       "       [ -0.31099208,   3.9546246 ],\n",
       "       [ -9.03347673,  -7.84522555],\n",
       "       [ -9.31816189,  -5.08059174],\n",
       "       [ -0.57841785,   0.99764953],\n",
       "       [ -9.36612172,  -9.10770259],\n",
       "       [ -9.11106734,  -6.07447068],\n",
       "       [  3.84851359,   7.47679476],\n",
       "       [  5.93150023,   7.28063766],\n",
       "       [ -9.89042523,  -7.06074906],\n",
       "       [ -0.79191211,   2.55941955],\n",
       "       [-11.12146629,  -5.52447846],\n",
       "       [ -9.32167698,  -4.98350846],\n",
       "       [ -9.48532725,  -6.55466169],\n",
       "       [ -1.03600096,   1.41379151],\n",
       "       [ -0.63760926,   1.71760939],\n",
       "       [ -1.43304427,   0.82043731]])"
      ]
     },
     "execution_count": 16,
     "metadata": {},
     "output_type": "execute_result"
    }
   ],
   "source": [
    "sample_data[0]"
   ]
  },
  {
   "cell_type": "code",
   "execution_count": 24,
   "metadata": {},
   "outputs": [],
   "source": [
    "from sklearn.cluster import KMeans"
   ]
  },
  {
   "cell_type": "code",
   "execution_count": 27,
   "metadata": {},
   "outputs": [],
   "source": [
    "model = KMeans(n_clusters=3)"
   ]
  },
  {
   "cell_type": "code",
   "execution_count": 28,
   "metadata": {},
   "outputs": [
    {
     "data": {
      "text/plain": [
       "KMeans(algorithm='auto', copy_x=True, init='k-means++', max_iter=300,\n",
       "    n_clusters=3, n_init=10, n_jobs=1, precompute_distances='auto',\n",
       "    random_state=None, tol=0.0001, verbose=0)"
      ]
     },
     "execution_count": 28,
     "metadata": {},
     "output_type": "execute_result"
    }
   ],
   "source": [
    "model.fit(sample_data[0])"
   ]
  },
  {
   "cell_type": "code",
   "execution_count": 30,
   "metadata": {},
   "outputs": [
    {
     "data": {
      "text/plain": [
       "array([0, 1, 0, 0, 1, 0, 2, 0, 1, 0, 2, 0, 0, 2, 2, 0, 1, 0, 1, 1, 2, 1,\n",
       "       1, 2, 1, 0, 0, 1, 1, 2, 0, 0, 0, 1, 1, 2, 2, 2, 1, 2, 1, 1, 0, 1,\n",
       "       2, 0, 0, 2, 0, 2, 1, 0, 1, 2, 0, 0, 2, 2, 0, 1, 1, 1, 1, 1, 0, 1,\n",
       "       2, 1, 1, 1, 0, 1, 2, 0, 2, 1, 2, 2, 0, 0, 1, 1, 1, 0, 0, 0, 1, 0,\n",
       "       0, 0, 1, 2, 0, 1, 2, 2, 2, 2, 0, 0, 0, 0, 2, 0, 1, 2, 1, 1, 0, 2,\n",
       "       2, 1, 1, 2, 2, 2, 2, 0, 2, 0, 1, 0, 1, 2, 0, 0, 2, 2, 2, 2, 0, 1,\n",
       "       1, 2, 1, 2, 1, 0, 1, 1, 1, 2, 2, 1, 0, 0, 2, 2, 2, 2, 0, 2, 0, 2,\n",
       "       1, 1, 1, 0, 1, 0, 0, 2, 0, 2, 0, 2, 2, 0, 2, 0, 2, 2, 0, 2, 1, 2,\n",
       "       1, 1, 2, 0, 0, 2, 0, 1, 0, 1, 1, 0, 1, 1, 2, 2, 1, 0, 1, 1, 1, 0,\n",
       "       0, 0])"
      ]
     },
     "execution_count": 30,
     "metadata": {},
     "output_type": "execute_result"
    }
   ],
   "source": [
    "model.labels_"
   ]
  },
  {
   "cell_type": "code",
   "execution_count": 31,
   "metadata": {},
   "outputs": [
    {
     "data": {
      "text/plain": [
       "<matplotlib.collections.PathCollection at 0x2631dbb0a90>"
      ]
     },
     "execution_count": 31,
     "metadata": {},
     "output_type": "execute_result"
    },
    {
     "data": {
      "image/png": "[encoded data removed]",
      "text/plain": [
       "<Figure size 432x288 with 1 Axes>"
      ]
     },
     "metadata": {},
     "output_type": "display_data"
    }
   ],
   "source": [
    "plt.scatter(sample_data[0][:,0],sample_data[0][:,1],c=model.labels_,cmap=\"rainbow\")"
   ]
  },
  {
   "cell_type": "code",
   "execution_count": 34,
   "metadata": {},
   "outputs": [
    {
     "data": {
      "text/plain": [
       "<matplotlib.collections.PathCollection at 0x2631dd9c0b8>"
      ]
     },
     "execution_count": 34,
     "metadata": {},
     "output_type": "execute_result"
    },
    {
     "data": {
      "image/png": "[encoded data removed]",
      "text/plain": [
       "<Figure size 432x288 with 2 Axes>"
      ]
     },
     "metadata": {},
     "output_type": "display_data"
    }
   ],
   "source": [
    "fig,(ax1,ax2)=plt.subplots(1,2,sharey=True)\n",
    "ax1.set_title(\"K means Prediction\")\n",
    "ax2.set_title(\"Origin\")\n",
    "ax1.scatter(sample_data[0][:,0],sample_data[0][:,1],c=model.labels_,cmap=\"rainbow\")\n",
    "ax2.scatter(sample_data[0][:,0],sample_data[0][:,1],c=sample_data[1],cmap=\"rainbow\")"
   ]
  },
  {
   "cell_type": "code",
   "execution_count": null,
   "metadata": {},
   "outputs": [],
   "source": []
  }
 ],
 "metadata": {
  "kernelspec": {
   "display_name": "Python 3",
   "language": "python",
   "name": "python3"
  },
  "language_info": {
   "codemirror_mode": {
    "name": "ipython",
    "version": 3
   },
   "file_extension": ".py",
   "mimetype": "text/x-python",
   "name": "python",
   "nbconvert_exporter": "python",
   "pygments_lexer": "ipython3",
   "version": "3.6.5"
  }
 },
 "nbformat": 4,
 "nbformat_minor": 2
}
