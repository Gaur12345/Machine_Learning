{
 "cells": [
  {
   "cell_type": "code",
   "execution_count": 1,
   "metadata": {},
   "outputs": [
    {
     "name": "stderr",
     "output_type": "stream",
     "text": [
      "C:\\Users\\hp\\Anaconda3\\lib\\site-packages\\h5py\\__init__.py:36: FutureWarning: Conversion of the second argument of issubdtype from `float` to `np.floating` is deprecated. In future, it will be treated as `np.float64 == np.dtype(float).type`.\n",
      "  from ._conv import register_converters as _register_converters\n"
     ]
    }
   ],
   "source": [
    "import numpy as np\n",
    "import pandas as pd\n",
    "import matplotlib.pyplot as plt\n",
    "import tensorflow as tf"
   ]
  },
  {
   "cell_type": "code",
   "execution_count": 2,
   "metadata": {},
   "outputs": [
    {
     "data": {
      "text/plain": [
       "array([0.0000000e+00, 1.0000001e-06, 2.0000002e-06, ..., 9.9999980e+00,\n",
       "       9.9999990e+00, 1.0000000e+01])"
      ]
     },
     "execution_count": 2,
     "metadata": {},
     "output_type": "execute_result"
    }
   ],
   "source": [
    "x_data = np.linspace(0.0,10.0,10000000)\n",
    "x_data"
   ]
  },
  {
   "cell_type": "code",
   "execution_count": 3,
   "metadata": {},
   "outputs": [
    {
     "data": {
      "text/plain": [
       "array([-1.55387017,  0.54331357, -0.24589739, ..., -0.46754844,\n",
       "        0.47669703,  1.55391231])"
      ]
     },
     "execution_count": 3,
     "metadata": {},
     "output_type": "execute_result"
    }
   ],
   "source": [
    "noise = np.random.randn(len(x_data))\n",
    "noise"
   ]
  },
  {
   "cell_type": "markdown",
   "metadata": {},
   "source": [
    "# y = mx+b"
   ]
  },
  {
   "cell_type": "code",
   "execution_count": 4,
   "metadata": {},
   "outputs": [],
   "source": [
    "# bais = 5\n",
    "y_true = (0.5 * x_data) + 5 + noise"
   ]
  },
  {
   "cell_type": "code",
   "execution_count": 5,
   "metadata": {},
   "outputs": [],
   "source": [
    "x_df = pd.DataFrame(data = x_data, columns = ['x-Data'])"
   ]
  },
  {
   "cell_type": "code",
   "execution_count": 6,
   "metadata": {},
   "outputs": [],
   "source": [
    "y_df = pd.DataFrame(data = y_true,columns=['y-Data'])"
   ]
  },
  {
   "cell_type": "code",
   "execution_count": 7,
   "metadata": {},
   "outputs": [
    {
     "data": {
      "text/html": [
       "<div>\n",
       "<style scoped>\n",
       "    .dataframe tbody tr th:only-of-type {\n",
       "        vertical-align: middle;\n",
       "    }\n",
       "\n",
       "    .dataframe tbody tr th {\n",
       "        vertical-align: top;\n",
       "    }\n",
       "\n",
       "    .dataframe thead th {\n",
       "        text-align: right;\n",
       "    }\n",
       "</style>\n",
       "<table border=\"1\" class=\"dataframe\">\n",
       "  <thead>\n",
       "    <tr style=\"text-align: right;\">\n",
       "      <th></th>\n",
       "      <th>x-Data</th>\n",
       "    </tr>\n",
       "  </thead>\n",
       "  <tbody>\n",
       "    <tr>\n",
       "      <th>0</th>\n",
       "      <td>0.000000</td>\n",
       "    </tr>\n",
       "    <tr>\n",
       "      <th>1</th>\n",
       "      <td>0.000001</td>\n",
       "    </tr>\n",
       "    <tr>\n",
       "      <th>2</th>\n",
       "      <td>0.000002</td>\n",
       "    </tr>\n",
       "    <tr>\n",
       "      <th>3</th>\n",
       "      <td>0.000003</td>\n",
       "    </tr>\n",
       "    <tr>\n",
       "      <th>4</th>\n",
       "      <td>0.000004</td>\n",
       "    </tr>\n",
       "  </tbody>\n",
       "</table>\n",
       "</div>"
      ],
      "text/plain": [
       "     x-Data\n",
       "0  0.000000\n",
       "1  0.000001\n",
       "2  0.000002\n",
       "3  0.000003\n",
       "4  0.000004"
      ]
     },
     "execution_count": 7,
     "metadata": {},
     "output_type": "execute_result"
    }
   ],
   "source": [
    "x_df.head()"
   ]
  },
  {
   "cell_type": "code",
   "execution_count": 8,
   "metadata": {},
   "outputs": [
    {
     "data": {
      "text/html": [
       "<div>\n",
       "<style scoped>\n",
       "    .dataframe tbody tr th:only-of-type {\n",
       "        vertical-align: middle;\n",
       "    }\n",
       "\n",
       "    .dataframe tbody tr th {\n",
       "        vertical-align: top;\n",
       "    }\n",
       "\n",
       "    .dataframe thead th {\n",
       "        text-align: right;\n",
       "    }\n",
       "</style>\n",
       "<table border=\"1\" class=\"dataframe\">\n",
       "  <thead>\n",
       "    <tr style=\"text-align: right;\">\n",
       "      <th></th>\n",
       "      <th>y-Data</th>\n",
       "    </tr>\n",
       "  </thead>\n",
       "  <tbody>\n",
       "    <tr>\n",
       "      <th>0</th>\n",
       "      <td>3.446130</td>\n",
       "    </tr>\n",
       "    <tr>\n",
       "      <th>1</th>\n",
       "      <td>5.543314</td>\n",
       "    </tr>\n",
       "    <tr>\n",
       "      <th>2</th>\n",
       "      <td>4.754104</td>\n",
       "    </tr>\n",
       "    <tr>\n",
       "      <th>3</th>\n",
       "      <td>5.050047</td>\n",
       "    </tr>\n",
       "    <tr>\n",
       "      <th>4</th>\n",
       "      <td>4.398526</td>\n",
       "    </tr>\n",
       "  </tbody>\n",
       "</table>\n",
       "</div>"
      ],
      "text/plain": [
       "     y-Data\n",
       "0  3.446130\n",
       "1  5.543314\n",
       "2  4.754104\n",
       "3  5.050047\n",
       "4  4.398526"
      ]
     },
     "execution_count": 8,
     "metadata": {},
     "output_type": "execute_result"
    }
   ],
   "source": [
    "y_df.head()"
   ]
  },
  {
   "cell_type": "code",
   "execution_count": 9,
   "metadata": {},
   "outputs": [],
   "source": [
    "my_data = pd.concat([x_df,y_df],axis=1)"
   ]
  },
  {
   "cell_type": "code",
   "execution_count": 10,
   "metadata": {},
   "outputs": [
    {
     "data": {
      "text/html": [
       "<div>\n",
       "<style scoped>\n",
       "    .dataframe tbody tr th:only-of-type {\n",
       "        vertical-align: middle;\n",
       "    }\n",
       "\n",
       "    .dataframe tbody tr th {\n",
       "        vertical-align: top;\n",
       "    }\n",
       "\n",
       "    .dataframe thead th {\n",
       "        text-align: right;\n",
       "    }\n",
       "</style>\n",
       "<table border=\"1\" class=\"dataframe\">\n",
       "  <thead>\n",
       "    <tr style=\"text-align: right;\">\n",
       "      <th></th>\n",
       "      <th>x-Data</th>\n",
       "      <th>y-Data</th>\n",
       "    </tr>\n",
       "  </thead>\n",
       "  <tbody>\n",
       "    <tr>\n",
       "      <th>0</th>\n",
       "      <td>0.000000</td>\n",
       "      <td>3.446130</td>\n",
       "    </tr>\n",
       "    <tr>\n",
       "      <th>1</th>\n",
       "      <td>0.000001</td>\n",
       "      <td>5.543314</td>\n",
       "    </tr>\n",
       "    <tr>\n",
       "      <th>2</th>\n",
       "      <td>0.000002</td>\n",
       "      <td>4.754104</td>\n",
       "    </tr>\n",
       "    <tr>\n",
       "      <th>3</th>\n",
       "      <td>0.000003</td>\n",
       "      <td>5.050047</td>\n",
       "    </tr>\n",
       "    <tr>\n",
       "      <th>4</th>\n",
       "      <td>0.000004</td>\n",
       "      <td>4.398526</td>\n",
       "    </tr>\n",
       "  </tbody>\n",
       "</table>\n",
       "</div>"
      ],
      "text/plain": [
       "     x-Data    y-Data\n",
       "0  0.000000  3.446130\n",
       "1  0.000001  5.543314\n",
       "2  0.000002  4.754104\n",
       "3  0.000003  5.050047\n",
       "4  0.000004  4.398526"
      ]
     },
     "execution_count": 10,
     "metadata": {},
     "output_type": "execute_result"
    }
   ],
   "source": [
    "my_data.head()"
   ]
  },
  {
   "cell_type": "code",
   "execution_count": 13,
   "metadata": {
    "collapsed": true
   },
   "outputs": [
    {
     "data": {
      "text/html": [
       "<div>\n",
       "<style scoped>\n",
       "    .dataframe tbody tr th:only-of-type {\n",
       "        vertical-align: middle;\n",
       "    }\n",
       "\n",
       "    .dataframe tbody tr th {\n",
       "        vertical-align: top;\n",
       "    }\n",
       "\n",
       "    .dataframe thead th {\n",
       "        text-align: right;\n",
       "    }\n",
       "</style>\n",
       "<table border=\"1\" class=\"dataframe\">\n",
       "  <thead>\n",
       "    <tr style=\"text-align: right;\">\n",
       "      <th></th>\n",
       "      <th>x-Data</th>\n",
       "      <th>y-Data</th>\n",
       "    </tr>\n",
       "  </thead>\n",
       "  <tbody>\n",
       "    <tr>\n",
       "      <th>9398025</th>\n",
       "      <td>9.398026</td>\n",
       "      <td>8.826035</td>\n",
       "    </tr>\n",
       "    <tr>\n",
       "      <th>1026952</th>\n",
       "      <td>1.026952</td>\n",
       "      <td>5.455772</td>\n",
       "    </tr>\n",
       "    <tr>\n",
       "      <th>423129</th>\n",
       "      <td>0.423129</td>\n",
       "      <td>4.848443</td>\n",
       "    </tr>\n",
       "    <tr>\n",
       "      <th>851222</th>\n",
       "      <td>0.851222</td>\n",
       "      <td>4.912885</td>\n",
       "    </tr>\n",
       "    <tr>\n",
       "      <th>3526961</th>\n",
       "      <td>3.526961</td>\n",
       "      <td>8.120195</td>\n",
       "    </tr>\n",
       "    <tr>\n",
       "      <th>3066797</th>\n",
       "      <td>3.066797</td>\n",
       "      <td>6.061355</td>\n",
       "    </tr>\n",
       "    <tr>\n",
       "      <th>3487932</th>\n",
       "      <td>3.487932</td>\n",
       "      <td>5.775421</td>\n",
       "    </tr>\n",
       "    <tr>\n",
       "      <th>9188131</th>\n",
       "      <td>9.188132</td>\n",
       "      <td>9.991832</td>\n",
       "    </tr>\n",
       "    <tr>\n",
       "      <th>49821</th>\n",
       "      <td>0.049821</td>\n",
       "      <td>4.496755</td>\n",
       "    </tr>\n",
       "    <tr>\n",
       "      <th>8037243</th>\n",
       "      <td>8.037244</td>\n",
       "      <td>9.252263</td>\n",
       "    </tr>\n",
       "    <tr>\n",
       "      <th>5049032</th>\n",
       "      <td>5.049033</td>\n",
       "      <td>6.342524</td>\n",
       "    </tr>\n",
       "    <tr>\n",
       "      <th>9834073</th>\n",
       "      <td>9.834074</td>\n",
       "      <td>8.127641</td>\n",
       "    </tr>\n",
       "    <tr>\n",
       "      <th>4495160</th>\n",
       "      <td>4.495160</td>\n",
       "      <td>7.627935</td>\n",
       "    </tr>\n",
       "    <tr>\n",
       "      <th>7831897</th>\n",
       "      <td>7.831898</td>\n",
       "      <td>7.615125</td>\n",
       "    </tr>\n",
       "    <tr>\n",
       "      <th>3696758</th>\n",
       "      <td>3.696758</td>\n",
       "      <td>6.725266</td>\n",
       "    </tr>\n",
       "    <tr>\n",
       "      <th>1117744</th>\n",
       "      <td>1.117744</td>\n",
       "      <td>6.436849</td>\n",
       "    </tr>\n",
       "    <tr>\n",
       "      <th>7665306</th>\n",
       "      <td>7.665307</td>\n",
       "      <td>8.839944</td>\n",
       "    </tr>\n",
       "    <tr>\n",
       "      <th>5755844</th>\n",
       "      <td>5.755845</td>\n",
       "      <td>8.672767</td>\n",
       "    </tr>\n",
       "    <tr>\n",
       "      <th>8949257</th>\n",
       "      <td>8.949258</td>\n",
       "      <td>9.016387</td>\n",
       "    </tr>\n",
       "    <tr>\n",
       "      <th>7342327</th>\n",
       "      <td>7.342328</td>\n",
       "      <td>7.900991</td>\n",
       "    </tr>\n",
       "    <tr>\n",
       "      <th>8307378</th>\n",
       "      <td>8.307379</td>\n",
       "      <td>6.338654</td>\n",
       "    </tr>\n",
       "    <tr>\n",
       "      <th>6652438</th>\n",
       "      <td>6.652439</td>\n",
       "      <td>9.035785</td>\n",
       "    </tr>\n",
       "    <tr>\n",
       "      <th>3746398</th>\n",
       "      <td>3.746398</td>\n",
       "      <td>7.197138</td>\n",
       "    </tr>\n",
       "    <tr>\n",
       "      <th>13278</th>\n",
       "      <td>0.013278</td>\n",
       "      <td>5.146487</td>\n",
       "    </tr>\n",
       "    <tr>\n",
       "      <th>5276430</th>\n",
       "      <td>5.276431</td>\n",
       "      <td>5.764185</td>\n",
       "    </tr>\n",
       "    <tr>\n",
       "      <th>7532033</th>\n",
       "      <td>7.532034</td>\n",
       "      <td>9.521542</td>\n",
       "    </tr>\n",
       "    <tr>\n",
       "      <th>933610</th>\n",
       "      <td>0.933610</td>\n",
       "      <td>4.920112</td>\n",
       "    </tr>\n",
       "    <tr>\n",
       "      <th>8189560</th>\n",
       "      <td>8.189561</td>\n",
       "      <td>8.609890</td>\n",
       "    </tr>\n",
       "    <tr>\n",
       "      <th>9579563</th>\n",
       "      <td>9.579564</td>\n",
       "      <td>7.560424</td>\n",
       "    </tr>\n",
       "    <tr>\n",
       "      <th>6875864</th>\n",
       "      <td>6.875865</td>\n",
       "      <td>7.902283</td>\n",
       "    </tr>\n",
       "    <tr>\n",
       "      <th>...</th>\n",
       "      <td>...</td>\n",
       "      <td>...</td>\n",
       "    </tr>\n",
       "    <tr>\n",
       "      <th>6053503</th>\n",
       "      <td>6.053504</td>\n",
       "      <td>8.761625</td>\n",
       "    </tr>\n",
       "    <tr>\n",
       "      <th>5761767</th>\n",
       "      <td>5.761768</td>\n",
       "      <td>6.306777</td>\n",
       "    </tr>\n",
       "    <tr>\n",
       "      <th>870365</th>\n",
       "      <td>0.870365</td>\n",
       "      <td>3.600679</td>\n",
       "    </tr>\n",
       "    <tr>\n",
       "      <th>6823023</th>\n",
       "      <td>6.823024</td>\n",
       "      <td>7.516583</td>\n",
       "    </tr>\n",
       "    <tr>\n",
       "      <th>4477358</th>\n",
       "      <td>4.477358</td>\n",
       "      <td>7.024687</td>\n",
       "    </tr>\n",
       "    <tr>\n",
       "      <th>7574894</th>\n",
       "      <td>7.574895</td>\n",
       "      <td>9.512454</td>\n",
       "    </tr>\n",
       "    <tr>\n",
       "      <th>4931041</th>\n",
       "      <td>4.931041</td>\n",
       "      <td>7.221168</td>\n",
       "    </tr>\n",
       "    <tr>\n",
       "      <th>2433343</th>\n",
       "      <td>2.433343</td>\n",
       "      <td>7.128471</td>\n",
       "    </tr>\n",
       "    <tr>\n",
       "      <th>5194493</th>\n",
       "      <td>5.194494</td>\n",
       "      <td>7.052988</td>\n",
       "    </tr>\n",
       "    <tr>\n",
       "      <th>7503637</th>\n",
       "      <td>7.503638</td>\n",
       "      <td>8.504980</td>\n",
       "    </tr>\n",
       "    <tr>\n",
       "      <th>3872835</th>\n",
       "      <td>3.872835</td>\n",
       "      <td>7.077011</td>\n",
       "    </tr>\n",
       "    <tr>\n",
       "      <th>6618214</th>\n",
       "      <td>6.618215</td>\n",
       "      <td>7.770702</td>\n",
       "    </tr>\n",
       "    <tr>\n",
       "      <th>8908287</th>\n",
       "      <td>8.908288</td>\n",
       "      <td>10.398508</td>\n",
       "    </tr>\n",
       "    <tr>\n",
       "      <th>5950621</th>\n",
       "      <td>5.950622</td>\n",
       "      <td>8.018281</td>\n",
       "    </tr>\n",
       "    <tr>\n",
       "      <th>919932</th>\n",
       "      <td>0.919932</td>\n",
       "      <td>4.819310</td>\n",
       "    </tr>\n",
       "    <tr>\n",
       "      <th>4924398</th>\n",
       "      <td>4.924398</td>\n",
       "      <td>7.235760</td>\n",
       "    </tr>\n",
       "    <tr>\n",
       "      <th>1916083</th>\n",
       "      <td>1.916083</td>\n",
       "      <td>4.547424</td>\n",
       "    </tr>\n",
       "    <tr>\n",
       "      <th>7154007</th>\n",
       "      <td>7.154008</td>\n",
       "      <td>8.578757</td>\n",
       "    </tr>\n",
       "    <tr>\n",
       "      <th>7632477</th>\n",
       "      <td>7.632478</td>\n",
       "      <td>8.026419</td>\n",
       "    </tr>\n",
       "    <tr>\n",
       "      <th>268974</th>\n",
       "      <td>0.268974</td>\n",
       "      <td>7.004100</td>\n",
       "    </tr>\n",
       "    <tr>\n",
       "      <th>7977516</th>\n",
       "      <td>7.977517</td>\n",
       "      <td>9.547039</td>\n",
       "    </tr>\n",
       "    <tr>\n",
       "      <th>8892189</th>\n",
       "      <td>8.892190</td>\n",
       "      <td>10.605641</td>\n",
       "    </tr>\n",
       "    <tr>\n",
       "      <th>8541807</th>\n",
       "      <td>8.541808</td>\n",
       "      <td>9.120422</td>\n",
       "    </tr>\n",
       "    <tr>\n",
       "      <th>7112977</th>\n",
       "      <td>7.112978</td>\n",
       "      <td>9.318406</td>\n",
       "    </tr>\n",
       "    <tr>\n",
       "      <th>1615474</th>\n",
       "      <td>1.615474</td>\n",
       "      <td>7.034120</td>\n",
       "    </tr>\n",
       "    <tr>\n",
       "      <th>4201453</th>\n",
       "      <td>4.201453</td>\n",
       "      <td>6.064085</td>\n",
       "    </tr>\n",
       "    <tr>\n",
       "      <th>4980119</th>\n",
       "      <td>4.980119</td>\n",
       "      <td>7.471387</td>\n",
       "    </tr>\n",
       "    <tr>\n",
       "      <th>4895066</th>\n",
       "      <td>4.895066</td>\n",
       "      <td>8.071102</td>\n",
       "    </tr>\n",
       "    <tr>\n",
       "      <th>7592689</th>\n",
       "      <td>7.592690</td>\n",
       "      <td>8.167939</td>\n",
       "    </tr>\n",
       "    <tr>\n",
       "      <th>4393417</th>\n",
       "      <td>4.393417</td>\n",
       "      <td>6.847352</td>\n",
       "    </tr>\n",
       "  </tbody>\n",
       "</table>\n",
       "<p>250 rows × 2 columns</p>\n",
       "</div>"
      ],
      "text/plain": [
       "           x-Data     y-Data\n",
       "9398025  9.398026   8.826035\n",
       "1026952  1.026952   5.455772\n",
       "423129   0.423129   4.848443\n",
       "851222   0.851222   4.912885\n",
       "3526961  3.526961   8.120195\n",
       "3066797  3.066797   6.061355\n",
       "3487932  3.487932   5.775421\n",
       "9188131  9.188132   9.991832\n",
       "49821    0.049821   4.496755\n",
       "8037243  8.037244   9.252263\n",
       "5049032  5.049033   6.342524\n",
       "9834073  9.834074   8.127641\n",
       "4495160  4.495160   7.627935\n",
       "7831897  7.831898   7.615125\n",
       "3696758  3.696758   6.725266\n",
       "1117744  1.117744   6.436849\n",
       "7665306  7.665307   8.839944\n",
       "5755844  5.755845   8.672767\n",
       "8949257  8.949258   9.016387\n",
       "7342327  7.342328   7.900991\n",
       "8307378  8.307379   6.338654\n",
       "6652438  6.652439   9.035785\n",
       "3746398  3.746398   7.197138\n",
       "13278    0.013278   5.146487\n",
       "5276430  5.276431   5.764185\n",
       "7532033  7.532034   9.521542\n",
       "933610   0.933610   4.920112\n",
       "8189560  8.189561   8.609890\n",
       "9579563  9.579564   7.560424\n",
       "6875864  6.875865   7.902283\n",
       "...           ...        ...\n",
       "6053503  6.053504   8.761625\n",
       "5761767  5.761768   6.306777\n",
       "870365   0.870365   3.600679\n",
       "6823023  6.823024   7.516583\n",
       "4477358  4.477358   7.024687\n",
       "7574894  7.574895   9.512454\n",
       "4931041  4.931041   7.221168\n",
       "2433343  2.433343   7.128471\n",
       "5194493  5.194494   7.052988\n",
       "7503637  7.503638   8.504980\n",
       "3872835  3.872835   7.077011\n",
       "6618214  6.618215   7.770702\n",
       "8908287  8.908288  10.398508\n",
       "5950621  5.950622   8.018281\n",
       "919932   0.919932   4.819310\n",
       "4924398  4.924398   7.235760\n",
       "1916083  1.916083   4.547424\n",
       "7154007  7.154008   8.578757\n",
       "7632477  7.632478   8.026419\n",
       "268974   0.268974   7.004100\n",
       "7977516  7.977517   9.547039\n",
       "8892189  8.892190  10.605641\n",
       "8541807  8.541808   9.120422\n",
       "7112977  7.112978   9.318406\n",
       "1615474  1.615474   7.034120\n",
       "4201453  4.201453   6.064085\n",
       "4980119  4.980119   7.471387\n",
       "4895066  4.895066   8.071102\n",
       "7592689  7.592690   8.167939\n",
       "4393417  4.393417   6.847352\n",
       "\n",
       "[250 rows x 2 columns]"
      ]
     },
     "execution_count": 13,
     "metadata": {},
     "output_type": "execute_result"
    }
   ],
   "source": [
    "my_data.sample(n=250)"
   ]
  },
  {
   "cell_type": "code",
   "execution_count": 14,
   "metadata": {},
   "outputs": [
    {
     "data": {
      "text/plain": [
       "<matplotlib.axes._subplots.AxesSubplot at 0x24d9af2e7b8>"
      ]
     },
     "execution_count": 14,
     "metadata": {},
     "output_type": "execute_result"
    },
    {
     "data": {
      "image/png": "[encoded data removed]",
      "text/plain": [
       "<Figure size 432x288 with 1 Axes>"
      ]
     },
     "metadata": {},
     "output_type": "display_data"
    }
   ],
   "source": [
    "my_data.sample(n=250).plot(kind= 'scatter',x='x-Data',y='y-Data')"
   ]
  },
  {
   "cell_type": "code",
   "execution_count": 15,
   "metadata": {},
   "outputs": [],
   "source": [
    "batch_size = 8"
   ]
  },
  {
   "cell_type": "code",
   "execution_count": 16,
   "metadata": {},
   "outputs": [],
   "source": [
    "tf.compat.v1.disable_eager_execution()"
   ]
  },
  {
   "cell_type": "code",
   "execution_count": 17,
   "metadata": {},
   "outputs": [
    {
     "name": "stdout",
     "output_type": "stream",
     "text": [
      "WARNING:tensorflow:From C:\\Users\\hp\\Anaconda3\\lib\\site-packages\\tensorflow_core\\python\\ops\\resource_variable_ops.py:1630: calling BaseResourceVariable.__init__ (from tensorflow.python.ops.resource_variable_ops) with constraint is deprecated and will be removed in a future version.\n",
      "Instructions for updating:\n",
      "If using Keras pass *_constraint arguments to layers.\n"
     ]
    }
   ],
   "source": [
    "m = tf.compat.v1.Variable(0.5)\n",
    "b = tf.compat.v1.Variable(1.0)"
   ]
  },
  {
   "cell_type": "code",
   "execution_count": 18,
   "metadata": {},
   "outputs": [],
   "source": [
    "xph = tf.compat.v1.placeholder(tf.float32,[batch_size])"
   ]
  },
  {
   "cell_type": "code",
   "execution_count": 19,
   "metadata": {},
   "outputs": [],
   "source": [
    "yph = tf.compat.v1.placeholder(tf.float32,[batch_size])"
   ]
  },
  {
   "cell_type": "code",
   "execution_count": 20,
   "metadata": {},
   "outputs": [],
   "source": [
    "y_model = m*xph + b"
   ]
  },
  {
   "cell_type": "code",
   "execution_count": 21,
   "metadata": {},
   "outputs": [
    {
     "data": {
      "text/plain": [
       "<tf.Tensor 'add:0' shape=(8,) dtype=float32>"
      ]
     },
     "execution_count": 21,
     "metadata": {},
     "output_type": "execute_result"
    }
   ],
   "source": [
    "y_model"
   ]
  },
  {
   "cell_type": "code",
   "execution_count": 22,
   "metadata": {},
   "outputs": [],
   "source": [
    "#Cost Function \n",
    "error = tf.compat.v1.reduce_sum(tf.square(yph-y_model))"
   ]
  },
  {
   "cell_type": "code",
   "execution_count": 23,
   "metadata": {},
   "outputs": [],
   "source": [
    "optimizer = tf.compat.v1.train.GradientDescentOptimizer(learning_rate=0.001)\n"
   ]
  },
  {
   "cell_type": "code",
   "execution_count": 24,
   "metadata": {},
   "outputs": [],
   "source": [
    "train = optimizer.minimize(error)"
   ]
  },
  {
   "cell_type": "code",
   "execution_count": 25,
   "metadata": {},
   "outputs": [],
   "source": [
    "init = tf.compat.v1.global_variables_initializer()"
   ]
  },
  {
   "cell_type": "code",
   "execution_count": 26,
   "metadata": {},
   "outputs": [],
   "source": [
    "with tf.compat.v1.Session() as sess:\n",
    "    sess.run(init)\n",
    "    \n",
    "    batches = 1000\n",
    "    for i in range(batches):\n",
    "        rand_ind = np.random.randint(len(x_data),size=batch_size)\n",
    "        feed = {xph:x_data[rand_ind],yph:y_true[rand_ind]}\n",
    "        sess.run(train,feed_dict=feed)\n",
    "        \n",
    "    model_m ,model_b = sess.run([m,b])"
   ]
  },
  {
   "cell_type": "code",
   "execution_count": 27,
   "metadata": {},
   "outputs": [
    {
     "data": {
      "text/plain": [
       "0.53031206"
      ]
     },
     "execution_count": 27,
     "metadata": {},
     "output_type": "execute_result"
    }
   ],
   "source": [
    "model_m"
   ]
  },
  {
   "cell_type": "code",
   "execution_count": 28,
   "metadata": {},
   "outputs": [
    {
     "data": {
      "text/plain": [
       "4.938217"
      ]
     },
     "execution_count": 28,
     "metadata": {},
     "output_type": "execute_result"
    }
   ],
   "source": [
    "model_b"
   ]
  },
  {
   "cell_type": "code",
   "execution_count": 29,
   "metadata": {},
   "outputs": [],
   "source": [
    "y_hat = x_data * model_m + model_b"
   ]
  },
  {
   "cell_type": "code",
   "execution_count": 30,
   "metadata": {},
   "outputs": [
    {
     "data": {
      "text/plain": [
       "[<matplotlib.lines.Line2D at 0x24d9b053668>]"
      ]
     },
     "execution_count": 30,
     "metadata": {},
     "output_type": "execute_result"
    },
    {
     "data": {
      "image/png": "[encoded data removed]",
      "text/plain": [
       "<Figure size 432x288 with 1 Axes>"
      ]
     },
     "metadata": {},
     "output_type": "display_data"
    }
   ],
   "source": [
    "my_data.sample(n=250).plot(kind='scatter',x='x-Data',y='y-Data')\n",
    "plt.plot(x_data,y_hat,'r')"
   ]
  },
  {
   "cell_type": "markdown",
   "metadata": {},
   "source": [
    "# Estimetor API"
   ]
  },
  {
   "cell_type": "code",
   "execution_count": 31,
   "metadata": {},
   "outputs": [],
   "source": [
    "feat_cols = [tf.compat.v1.feature_column.numeric_column('x',shape=[1])]"
   ]
  },
  {
   "cell_type": "code",
   "execution_count": 32,
   "metadata": {},
   "outputs": [
    {
     "name": "stdout",
     "output_type": "stream",
     "text": [
      "INFO:tensorflow:Using default config.\n",
      "WARNING:tensorflow:Using temporary folder as model directory: C:\\Users\\hp\\AppData\\Local\\Temp\\tmpga2ua3g7\n",
      "INFO:tensorflow:Using config: {'_model_dir': 'C:\\\\Users\\\\hp\\\\AppData\\\\Local\\\\Temp\\\\tmpga2ua3g7', '_tf_random_seed': None, '_save_summary_steps': 100, '_save_checkpoints_steps': None, '_save_checkpoints_secs': 600, '_session_config': allow_soft_placement: true\n",
      "graph_options {\n",
      "  rewrite_options {\n",
      "    meta_optimizer_iterations: ONE\n",
      "  }\n",
      "}\n",
      ", '_keep_checkpoint_max': 5, '_keep_checkpoint_every_n_hours': 10000, '_log_step_count_steps': 100, '_train_distribute': None, '_device_fn': None, '_protocol': None, '_eval_distribute': None, '_experimental_distribute': None, '_experimental_max_worker_delay_secs': None, '_session_creation_timeout_secs': 7200, '_service': None, '_cluster_spec': <tensorflow.python.training.server_lib.ClusterSpec object at 0x0000024D9B053710>, '_task_type': 'worker', '_task_id': 0, '_global_id_in_cluster': 0, '_master': '', '_evaluation_master': '', '_is_chief': True, '_num_ps_replicas': 0, '_num_worker_replicas': 1}\n"
     ]
    }
   ],
   "source": [
    "estimator = tf.compat.v1.estimator.LinearRegressor(feature_columns=feat_cols)"
   ]
  },
  {
   "cell_type": "code",
   "execution_count": 33,
   "metadata": {},
   "outputs": [],
   "source": [
    "# Train test Split\n",
    "from sklearn.model_selection import train_test_split"
   ]
  },
  {
   "cell_type": "code",
   "execution_count": 34,
   "metadata": {},
   "outputs": [],
   "source": [
    "x_train,x_eval, y_train , y_eval = train_test_split(x_data,y_true,test_size=0.3,random_state=0)"
   ]
  },
  {
   "cell_type": "code",
   "execution_count": 35,
   "metadata": {},
   "outputs": [
    {
     "data": {
      "text/plain": [
       "array([4.23690142, 4.73488247, 9.68514397, ..., 2.21510422, 1.48440515,\n",
       "       8.32580483])"
      ]
     },
     "execution_count": 35,
     "metadata": {},
     "output_type": "execute_result"
    }
   ],
   "source": [
    "x_train"
   ]
  },
  {
   "cell_type": "code",
   "execution_count": 36,
   "metadata": {},
   "outputs": [
    {
     "data": {
      "text/plain": [
       "array([9.48727395, 1.40914314, 4.86132349, ..., 1.47365515, 5.91384859,\n",
       "       6.0445946 ])"
      ]
     },
     "execution_count": 36,
     "metadata": {},
     "output_type": "execute_result"
    }
   ],
   "source": [
    "x_eval"
   ]
  },
  {
   "cell_type": "code",
   "execution_count": 37,
   "metadata": {},
   "outputs": [
    {
     "data": {
      "text/plain": [
       "(7000000,)"
      ]
     },
     "execution_count": 37,
     "metadata": {},
     "output_type": "execute_result"
    }
   ],
   "source": [
    "x_train.shape"
   ]
  },
  {
   "cell_type": "code",
   "execution_count": 38,
   "metadata": {},
   "outputs": [
    {
     "data": {
      "text/plain": [
       "(3000000,)"
      ]
     },
     "execution_count": 38,
     "metadata": {},
     "output_type": "execute_result"
    }
   ],
   "source": [
    "x_eval.shape"
   ]
  },
  {
   "cell_type": "code",
   "execution_count": 39,
   "metadata": {},
   "outputs": [],
   "source": [
    "input_func = tf.compat.v1.estimator.inputs.numpy_input_fn({'x':x_train},y_train,batch_size=4,num_epochs=None, shuffle=True)"
   ]
  },
  {
   "cell_type": "code",
   "execution_count": 40,
   "metadata": {},
   "outputs": [],
   "source": [
    "train_input_func = tf.compat.v1.estimator.inputs.numpy_input_fn({'x':x_train},y_train,batch_size=4,num_epochs=1000, shuffle=False)"
   ]
  },
  {
   "cell_type": "code",
   "execution_count": 41,
   "metadata": {},
   "outputs": [],
   "source": [
    "eval_input_func = tf.compat.v1.estimator.inputs.numpy_input_fn({'x':x_train},y_train,batch_size=4,num_epochs=1000, shuffle=False)"
   ]
  },
  {
   "cell_type": "code",
   "execution_count": 42,
   "metadata": {},
   "outputs": [
    {
     "name": "stdout",
     "output_type": "stream",
     "text": [
      "WARNING:tensorflow:From C:\\Users\\hp\\Anaconda3\\lib\\site-packages\\tensorflow_core\\python\\training\\training_util.py:236: Variable.initialized_value (from tensorflow.python.ops.variables) is deprecated and will be removed in a future version.\n",
      "Instructions for updating:\n",
      "Use Variable.read_value. Variables in 2.X are initialized automatically both in eager and graph (inside tf.defun) contexts.\n",
      "WARNING:tensorflow:From C:\\Users\\hp\\Anaconda3\\lib\\site-packages\\tensorflow_estimator\\python\\estimator\\inputs\\queues\\feeding_queue_runner.py:62: QueueRunner.__init__ (from tensorflow.python.training.queue_runner_impl) is deprecated and will be removed in a future version.\n",
      "Instructions for updating:\n",
      "To construct input pipelines, use the `tf.data` module.\n",
      "WARNING:tensorflow:From C:\\Users\\hp\\Anaconda3\\lib\\site-packages\\tensorflow_estimator\\python\\estimator\\inputs\\queues\\feeding_functions.py:500: add_queue_runner (from tensorflow.python.training.queue_runner_impl) is deprecated and will be removed in a future version.\n",
      "Instructions for updating:\n",
      "To construct input pipelines, use the `tf.data` module.\n",
      "INFO:tensorflow:Calling model_fn.\n",
      "WARNING:tensorflow:Layer linear_model is casting an input tensor from dtype float64 to the layer's dtype of float32, which is new behavior in TensorFlow 2.  The layer has dtype float32 because it's dtype defaults to floatx.\n",
      "\n",
      "If you intended to run this layer in float32, you can safely ignore this warning. If in doubt, this warning is likely only an issue if you are porting a TensorFlow 1.X model to TensorFlow 2.\n",
      "\n",
      "To change all layers to have dtype float64 by default, call `tf.keras.backend.set_floatx('float64')`. To change just this layer, pass dtype='float64' to the layer constructor. If you are the author of this layer, you can disable autocasting by passing autocast=False to the base Layer constructor.\n",
      "\n",
      "WARNING:tensorflow:From C:\\Users\\hp\\Anaconda3\\lib\\site-packages\\tensorflow_core\\python\\feature_column\\feature_column_v2.py:518: Layer.add_variable (from tensorflow.python.keras.engine.base_layer) is deprecated and will be removed in a future version.\n",
      "Instructions for updating:\n",
      "Please use `layer.add_weight` method instead.\n",
      "WARNING:tensorflow:From C:\\Users\\hp\\Anaconda3\\lib\\site-packages\\tensorflow_estimator\\python\\estimator\\canned\\linear.py:308: to_float (from tensorflow.python.ops.math_ops) is deprecated and will be removed in a future version.\n",
      "Instructions for updating:\n",
      "Use `tf.cast` instead.\n",
      "INFO:tensorflow:Done calling model_fn.\n",
      "INFO:tensorflow:Create CheckpointSaverHook.\n",
      "INFO:tensorflow:Graph was finalized.\n",
      "INFO:tensorflow:Running local_init_op.\n",
      "INFO:tensorflow:Done running local_init_op.\n",
      "WARNING:tensorflow:From C:\\Users\\hp\\Anaconda3\\lib\\site-packages\\tensorflow_core\\python\\training\\monitored_session.py:882: start_queue_runners (from tensorflow.python.training.queue_runner_impl) is deprecated and will be removed in a future version.\n",
      "Instructions for updating:\n",
      "To construct input pipelines, use the `tf.data` module.\n",
      "INFO:tensorflow:Saving checkpoints for 0 into C:\\Users\\hp\\AppData\\Local\\Temp\\tmpga2ua3g7\\model.ckpt.\n",
      "INFO:tensorflow:loss = 159.45602, step = 0\n",
      "INFO:tensorflow:global_step/sec: 175.908\n",
      "INFO:tensorflow:loss = 8.560735, step = 100 (0.576 sec)\n",
      "INFO:tensorflow:global_step/sec: 163.037\n",
      "INFO:tensorflow:loss = 15.43128, step = 200 (0.609 sec)\n",
      "INFO:tensorflow:global_step/sec: 212.882\n",
      "INFO:tensorflow:loss = 10.3026085, step = 300 (0.471 sec)\n",
      "INFO:tensorflow:global_step/sec: 221.34\n",
      "INFO:tensorflow:loss = 10.471399, step = 400 (0.452 sec)\n",
      "INFO:tensorflow:global_step/sec: 223.313\n",
      "INFO:tensorflow:loss = 1.5515857, step = 500 (0.447 sec)\n",
      "INFO:tensorflow:global_step/sec: 232.101\n",
      "INFO:tensorflow:loss = 7.436712, step = 600 (0.433 sec)\n",
      "INFO:tensorflow:global_step/sec: 248.799\n",
      "INFO:tensorflow:loss = 2.6006796, step = 700 (0.399 sec)\n",
      "WARNING:tensorflow:It seems that global step (tf.train.get_global_step) has not been increased. Current value (could be stable): 760 vs previous value: 760. You could increase the global step by passing tf.train.get_global_step() to Optimizer.apply_gradients or Optimizer.minimize.\n",
      "INFO:tensorflow:global_step/sec: 201.084\n",
      "INFO:tensorflow:loss = 13.89184, step = 800 (0.500 sec)\n",
      "INFO:tensorflow:global_step/sec: 214.589\n",
      "INFO:tensorflow:loss = 2.034198, step = 900 (0.465 sec)\n",
      "WARNING:tensorflow:It seems that global step (tf.train.get_global_step) has not been increased. Current value (could be stable): 921 vs previous value: 921. You could increase the global step by passing tf.train.get_global_step() to Optimizer.apply_gradients or Optimizer.minimize.\n",
      "INFO:tensorflow:Saving checkpoints for 1000 into C:\\Users\\hp\\AppData\\Local\\Temp\\tmpga2ua3g7\\model.ckpt.\n",
      "INFO:tensorflow:Loss for final step: 1.4594445.\n"
     ]
    },
    {
     "data": {
      "text/plain": [
       "<tensorflow_estimator.python.estimator.canned.linear.LinearRegressor at 0x24d9af25898>"
      ]
     },
     "execution_count": 42,
     "metadata": {},
     "output_type": "execute_result"
    }
   ],
   "source": [
    "estimator.train(input_fn=input_func,steps=1000)"
   ]
  },
  {
   "cell_type": "code",
   "execution_count": 43,
   "metadata": {},
   "outputs": [
    {
     "name": "stdout",
     "output_type": "stream",
     "text": [
      "INFO:tensorflow:Calling model_fn.\n",
      "WARNING:tensorflow:Layer linear_model is casting an input tensor from dtype float64 to the layer's dtype of float32, which is new behavior in TensorFlow 2.  The layer has dtype float32 because it's dtype defaults to floatx.\n",
      "\n",
      "If you intended to run this layer in float32, you can safely ignore this warning. If in doubt, this warning is likely only an issue if you are porting a TensorFlow 1.X model to TensorFlow 2.\n",
      "\n",
      "To change all layers to have dtype float64 by default, call `tf.keras.backend.set_floatx('float64')`. To change just this layer, pass dtype='float64' to the layer constructor. If you are the author of this layer, you can disable autocasting by passing autocast=False to the base Layer constructor.\n",
      "\n",
      "INFO:tensorflow:Done calling model_fn.\n",
      "INFO:tensorflow:Starting evaluation at 2019-12-19T17:36:16Z\n",
      "INFO:tensorflow:Graph was finalized.\n",
      "INFO:tensorflow:Restoring parameters from C:\\Users\\hp\\AppData\\Local\\Temp\\tmpga2ua3g7\\model.ckpt-1000\n",
      "INFO:tensorflow:Running local_init_op.\n",
      "INFO:tensorflow:Done running local_init_op.\n",
      "INFO:tensorflow:Evaluation [100/1000]\n",
      "INFO:tensorflow:Evaluation [200/1000]\n",
      "INFO:tensorflow:Evaluation [300/1000]\n",
      "INFO:tensorflow:Evaluation [400/1000]\n",
      "INFO:tensorflow:Evaluation [500/1000]\n",
      "INFO:tensorflow:Evaluation [600/1000]\n",
      "INFO:tensorflow:Evaluation [700/1000]\n",
      "INFO:tensorflow:Evaluation [800/1000]\n",
      "INFO:tensorflow:Evaluation [900/1000]\n",
      "INFO:tensorflow:Evaluation [1000/1000]\n",
      "INFO:tensorflow:Finished evaluation at 2019-12-19-17:36:22\n",
      "INFO:tensorflow:Saving dict for global step 1000: average_loss = 1.1250001, global_step = 1000, label/mean = 7.4637337, loss = 4.5000005, prediction/mean = 7.225608\n",
      "INFO:tensorflow:Saving 'checkpoint_path' summary for global step 1000: C:\\Users\\hp\\AppData\\Local\\Temp\\tmpga2ua3g7\\model.ckpt-1000\n"
     ]
    }
   ],
   "source": [
    "train_metrics = estimator.evaluate(input_fn=train_input_func,steps=1000)"
   ]
  },
  {
   "cell_type": "code",
   "execution_count": 44,
   "metadata": {},
   "outputs": [
    {
     "name": "stdout",
     "output_type": "stream",
     "text": [
      "INFO:tensorflow:Calling model_fn.\n",
      "WARNING:tensorflow:Layer linear_model is casting an input tensor from dtype float64 to the layer's dtype of float32, which is new behavior in TensorFlow 2.  The layer has dtype float32 because it's dtype defaults to floatx.\n",
      "\n",
      "If you intended to run this layer in float32, you can safely ignore this warning. If in doubt, this warning is likely only an issue if you are porting a TensorFlow 1.X model to TensorFlow 2.\n",
      "\n",
      "To change all layers to have dtype float64 by default, call `tf.keras.backend.set_floatx('float64')`. To change just this layer, pass dtype='float64' to the layer constructor. If you are the author of this layer, you can disable autocasting by passing autocast=False to the base Layer constructor.\n",
      "\n",
      "INFO:tensorflow:Done calling model_fn.\n",
      "INFO:tensorflow:Starting evaluation at 2019-12-19T17:37:30Z\n",
      "INFO:tensorflow:Graph was finalized.\n",
      "INFO:tensorflow:Restoring parameters from C:\\Users\\hp\\AppData\\Local\\Temp\\tmpga2ua3g7\\model.ckpt-1000\n",
      "INFO:tensorflow:Running local_init_op.\n",
      "INFO:tensorflow:Done running local_init_op.\n",
      "INFO:tensorflow:Evaluation [100/1000]\n",
      "INFO:tensorflow:Evaluation [200/1000]\n",
      "INFO:tensorflow:Evaluation [300/1000]\n",
      "INFO:tensorflow:Evaluation [400/1000]\n",
      "INFO:tensorflow:Evaluation [500/1000]\n",
      "INFO:tensorflow:Evaluation [600/1000]\n",
      "INFO:tensorflow:Evaluation [700/1000]\n",
      "INFO:tensorflow:Evaluation [800/1000]\n",
      "INFO:tensorflow:Evaluation [900/1000]\n",
      "INFO:tensorflow:Evaluation [1000/1000]\n",
      "INFO:tensorflow:Finished evaluation at 2019-12-19-17:37:37\n",
      "INFO:tensorflow:Saving dict for global step 1000: average_loss = 1.1250001, global_step = 1000, label/mean = 7.4637337, loss = 4.5000005, prediction/mean = 7.225608\n",
      "INFO:tensorflow:Saving 'checkpoint_path' summary for global step 1000: C:\\Users\\hp\\AppData\\Local\\Temp\\tmpga2ua3g7\\model.ckpt-1000\n"
     ]
    }
   ],
   "source": [
    "eval_matrics = estimator.evaluate(input_fn=eval_input_func,steps=1000)"
   ]
  },
  {
   "cell_type": "code",
   "execution_count": 51,
   "metadata": {},
   "outputs": [],
   "source": [
    "input_fu_predict = tf.compat.v1.estimator.inputs.numpy_input_fn({'x':np.linspace(0,10,10)},shuffle=False)"
   ]
  },
  {
   "cell_type": "code",
   "execution_count": 52,
   "metadata": {},
   "outputs": [
    {
     "name": "stdout",
     "output_type": "stream",
     "text": [
      "INFO:tensorflow:Calling model_fn.\n",
      "WARNING:tensorflow:Layer linear_model is casting an input tensor from dtype float64 to the layer's dtype of float32, which is new behavior in TensorFlow 2.  The layer has dtype float32 because it's dtype defaults to floatx.\n",
      "\n",
      "If you intended to run this layer in float32, you can safely ignore this warning. If in doubt, this warning is likely only an issue if you are porting a TensorFlow 1.X model to TensorFlow 2.\n",
      "\n",
      "To change all layers to have dtype float64 by default, call `tf.keras.backend.set_floatx('float64')`. To change just this layer, pass dtype='float64' to the layer constructor. If you are the author of this layer, you can disable autocasting by passing autocast=False to the base Layer constructor.\n",
      "\n",
      "INFO:tensorflow:Done calling model_fn.\n",
      "INFO:tensorflow:Graph was finalized.\n",
      "INFO:tensorflow:Restoring parameters from C:\\Users\\hp\\AppData\\Local\\Temp\\tmpga2ua3g7\\model.ckpt-1000\n",
      "INFO:tensorflow:Running local_init_op.\n",
      "INFO:tensorflow:Done running local_init_op.\n"
     ]
    },
    {
     "data": {
      "text/plain": [
       "[{'predictions': array([4.4236035], dtype=float32)},\n",
       " {'predictions': array([5.050631], dtype=float32)},\n",
       " {'predictions': array([5.6776586], dtype=float32)},\n",
       " {'predictions': array([6.304686], dtype=float32)},\n",
       " {'predictions': array([6.931714], dtype=float32)},\n",
       " {'predictions': array([7.558741], dtype=float32)},\n",
       " {'predictions': array([8.185769], dtype=float32)},\n",
       " {'predictions': array([8.812796], dtype=float32)},\n",
       " {'predictions': array([9.439824], dtype=float32)},\n",
       " {'predictions': array([10.066852], dtype=float32)}]"
      ]
     },
     "execution_count": 52,
     "metadata": {},
     "output_type": "execute_result"
    }
   ],
   "source": [
    "list(estimator.predict(input_fn=input_fu_predict))"
   ]
  },
  {
   "cell_type": "code",
   "execution_count": 65,
   "metadata": {},
   "outputs": [
    {
     "name": "stdout",
     "output_type": "stream",
     "text": [
      "INFO:tensorflow:Calling model_fn.\n",
      "WARNING:tensorflow:Layer linear_model is casting an input tensor from dtype float64 to the layer's dtype of float32, which is new behavior in TensorFlow 2.  The layer has dtype float32 because it's dtype defaults to floatx.\n",
      "\n",
      "If you intended to run this layer in float32, you can safely ignore this warning. If in doubt, this warning is likely only an issue if you are porting a TensorFlow 1.X model to TensorFlow 2.\n",
      "\n",
      "To change all layers to have dtype float64 by default, call `tf.keras.backend.set_floatx('float64')`. To change just this layer, pass dtype='float64' to the layer constructor. If you are the author of this layer, you can disable autocasting by passing autocast=False to the base Layer constructor.\n",
      "\n",
      "INFO:tensorflow:Done calling model_fn.\n",
      "INFO:tensorflow:Graph was finalized.\n",
      "INFO:tensorflow:Restoring parameters from C:\\Users\\hp\\AppData\\Local\\Temp\\tmpga2ua3g7\\model.ckpt-1000\n",
      "INFO:tensorflow:Running local_init_op.\n",
      "INFO:tensorflow:Done running local_init_op.\n"
     ]
    },
    {
     "ename": "KeyError",
     "evalue": "'predicitions'",
     "output_type": "error",
     "traceback": [
      "\u001b[1;31m---------------------------------------------------------------------------\u001b[0m",
      "\u001b[1;31mKeyError\u001b[0m                                  Traceback (most recent call last)",
      "\u001b[1;32m<ipython-input-65-7003c3dd4cfe>\u001b[0m in \u001b[0;36m<module>\u001b[1;34m()\u001b[0m\n\u001b[0;32m      1\u001b[0m \u001b[0mpredicitions\u001b[0m \u001b[1;33m=\u001b[0m \u001b[1;33m[\u001b[0m\u001b[1;33m]\u001b[0m\u001b[1;33m\u001b[0m\u001b[0m\n\u001b[0;32m      2\u001b[0m \u001b[1;32mfor\u001b[0m \u001b[0mx\u001b[0m \u001b[1;32min\u001b[0m \u001b[0mestimator\u001b[0m\u001b[1;33m.\u001b[0m\u001b[0mpredict\u001b[0m\u001b[1;33m(\u001b[0m\u001b[0minput_fn\u001b[0m\u001b[1;33m=\u001b[0m\u001b[0minput_fu_predict\u001b[0m\u001b[1;33m)\u001b[0m\u001b[1;33m:\u001b[0m\u001b[1;33m\u001b[0m\u001b[0m\n\u001b[1;32m----> 3\u001b[1;33m     \u001b[0mpredicitions\u001b[0m\u001b[1;33m.\u001b[0m\u001b[0mappend\u001b[0m\u001b[1;33m(\u001b[0m\u001b[0mx\u001b[0m\u001b[1;33m[\u001b[0m\u001b[1;34m'predicitions'\u001b[0m\u001b[1;33m]\u001b[0m\u001b[1;33m)\u001b[0m\u001b[1;33m\u001b[0m\u001b[0m\n\u001b[0m",
      "\u001b[1;31mKeyError\u001b[0m: 'predicitions'"
     ]
    }
   ],
   "source": [
    "predicitions = []\n",
    "for x in estimator.predict(input_fn=input_fu_predict):\n",
    "    predicitions.append(x['predicitions'])"
   ]
  },
  {
   "cell_type": "code",
   "execution_count": 64,
   "metadata": {},
   "outputs": [
    {
     "data": {
      "text/plain": [
       "[]"
      ]
     },
     "execution_count": 64,
     "metadata": {},
     "output_type": "execute_result"
    }
   ],
   "source": [
    "predicitions"
   ]
  },
  {
   "cell_type": "code",
   "execution_count": 67,
   "metadata": {},
   "outputs": [
    {
     "data": {
      "text/plain": [
       "<matplotlib.axes._subplots.AxesSubplot at 0x24d9f5572e8>"
      ]
     },
     "execution_count": 67,
     "metadata": {},
     "output_type": "execute_result"
    },
    {
     "data": {
      "image/png": "[encoded data removed]",
      "text/plain": [
       "<Figure size 432x288 with 1 Axes>"
      ]
     },
     "metadata": {},
     "output_type": "display_data"
    }
   ],
   "source": [
    "my_data.sample(n=250).plot(kind='scatter',x='x-Data',y='y-Data')\n",
    "#plt.plot(np.linspace(0,10,10),predicition,'r')"
   ]
  },
  {
   "cell_type": "code",
   "execution_count": null,
   "metadata": {},
   "outputs": [],
   "source": []
  }
 ],
 "metadata": {
  "kernelspec": {
   "display_name": "Python 3",
   "language": "python",
   "name": "python3"
  },
  "language_info": {
   "codemirror_mode": {
    "name": "ipython",
    "version": 3
   },
   "file_extension": ".py",
   "mimetype": "text/x-python",
   "name": "python",
   "nbconvert_exporter": "python",
   "pygments_lexer": "ipython3",
   "version": "3.6.5"
  }
 },
 "nbformat": 4,
 "nbformat_minor": 2
}
