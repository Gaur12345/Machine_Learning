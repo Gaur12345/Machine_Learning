{
 "cells": [
  {
   "cell_type": "code",
   "execution_count": 1,
   "metadata": {},
   "outputs": [],
   "source": [
    "import cv2\n",
    "import numpy as np"
   ]
  },
  {
   "cell_type": "code",
   "execution_count": 2,
   "metadata": {},
   "outputs": [
    {
     "name": "stdout",
     "output_type": "stream",
     "text": [
      "[[0 0 0]\n",
      " [0 0 0]\n",
      " [0 0 0]]\n",
      "[[[0 0 0]\n",
      "  [0 0 0]\n",
      "  [0 0 0]]\n",
      "\n",
      " [[0 0 0]\n",
      "  [0 0 0]\n",
      "  [0 0 0]]\n",
      "\n",
      " [[0 0 0]\n",
      "  [0 0 0]\n",
      "  [0 0 0]]]\n",
      "(3, 3, 3)\n"
     ]
    }
   ],
   "source": [
    "img = np.zeros((3,3),dtype=np.uint8)\n",
    "print(img)\n",
    "\n",
    "img = cv2.cvtColor(img,cv2.COLOR_GRAY2BGR)\n",
    "print(img)\n",
    "print(img.shape)\n",
    "cv2.imshow(\"Original Image\",img)\n",
    "\n",
    "cv2.waitKey(0)\n",
    "cv2.destroyAllWindows()"
   ]
  },
  {
   "cell_type": "code",
   "execution_count": 3,
   "metadata": {},
   "outputs": [],
   "source": [
    "#img1 = cv2.imread(\"E:\\openCvImage\\Origan Image.jpg\",0)\n",
    "img2 = cv2.imread(\"E:\\openCvImage\\Origan Image.jpg\",4)\n",
    "img3 = cv2.imread(\"E:\\openCvImage\\Origan Image.jpg\",1)\n",
    "#img4 = cv2.imread(\"E:\\openCvImage\\Origan Image.jpg\",8)\n",
    "img5 = cv2.imread(\"E:\\openCvImage\\Origan Image.jpg\",-1)\n",
    "img6 = cv2.imread(\"E:\\openCvImage\\Origan Image.jpg\",2)\n",
    "\n",
    "#cv2.imshow(\"Orignal image\",img1)\n",
    "#cv2.imshow(\"Orignal image\",img2)\n",
    "#cv2.imshow(\"Orignal image\",img3)\n",
    "#cv2.imshow(\"Orignal image\",img4)\n",
    "cv2.imshow(\"Orignal image\",img5)\n",
    "#cv2.imshow(\"Orignal image\",img6)\n",
    "\n",
    "cv2.waitKey(0)\n",
    "cv2.destroyAllWindows()"
   ]
  },
  {
   "cell_type": "code",
   "execution_count": 3,
   "metadata": {},
   "outputs": [
    {
     "name": "stdout",
     "output_type": "stream",
     "text": [
      "[ 38 248  17 ...  93  83 123]\n"
     ]
    }
   ],
   "source": [
    "import os\n",
    "\n",
    "randomByteArray = bytearray(os.urandom(120000))\n",
    "#print(randomByteArray)\n",
    "flatNumpyArray = np.array(randomByteArray)\n",
    "print(flatNumpyArray)\n",
    "#convert the array to make a 400*300 grayscale image\n",
    "grayImage = flatNumpyArray.reshape(300,400)\n",
    "cv2.imshow(\"Random Image\",grayImage)\n",
    "\n",
    "#converting the array to make a 400*100 color image\n",
    "bgrImage = flatNumpyArray.reshape(100,400,3)\n",
    "cv2.imshow(\"Random Color Image\",bgrImage)\n",
    "\n",
    "cv2.imwrite(\"E:\\openCvImage\\BookImages\\RandomgrayImage.jpg\",grayImage)\n",
    "cv2.imwrite(\"E:\\openCvImage\\BookImages\\RandomBGRImage.jpg\",bgrImage)\n",
    "\n",
    "cv2.waitKey(0)\n",
    "cv2.destroyAllWindows()"
   ]
  },
  {
   "cell_type": "code",
   "execution_count": 20,
   "metadata": {},
   "outputs": [
    {
     "name": "stdout",
     "output_type": "stream",
     "text": [
      "37\n",
      "None\n"
     ]
    }
   ],
   "source": [
    "img= cv2.imread(\"E:\\openCvImage\\Origan Image.jpg\")\n",
    "\n",
    "img[0,0]=[255,255,255]\n",
    "cv2.imshow(\"image\",img)\n",
    "pix=img.item(150,120,0)\n",
    "print(pix)\n",
    "\n",
    "pixl=img.itemset((150,120,0),255)\n",
    "print(pixl)\n",
    "\n",
    "cv2.waitKey(0)\n",
    "cv2.destroyAllWindows()"
   ]
  },
  {
   "cell_type": "code",
   "execution_count": 13,
   "metadata": {},
   "outputs": [
    {
     "name": "stdout",
     "output_type": "stream",
     "text": [
      "(340, 860, 3)\n",
      "877200\n",
      "uint8\n"
     ]
    }
   ],
   "source": [
    "img= cv2.imread(\"E:\\openCvImage\\Origan Image.jpg\")\n",
    "#my_roi = img[0:100,0:100]\n",
    "#my_roi[300:400,300:400]=my_roi\n",
    "print(img.shape)\n",
    "print(img.size)\n",
    "print(img.dtype)\n",
    "\n",
    "cv2.waitKey(0)\n",
    "cv2.destroyAllWindows()"
   ]
  },
  {
   "cell_type": "code",
   "execution_count": null,
   "metadata": {},
   "outputs": [],
   "source": [
    "import cv2\n",
    "clicked = False\n",
    "\n",
    "def onMouse(event, x, y, flags, param):\n",
    "    global clicked\n",
    "    if event == cv2.EVENT_LBUTTONUP:\n",
    "        clicked == True\n",
    "\n",
    "\n",
    "cameraCapture = cv2.VideoCapture(0)\n",
    "cv2.namedWindow('MyWindow')\n",
    "cv2.setMouseCallback('MyWindow',onMouse)\n",
    "\n",
    "print(\"Showing camera feed. click window or press any key to stop\")\n",
    "\n",
    "success, frame = cameraCapture.read()\n",
    "while success and cv2.waitKey(1) == -1 and not clicked:\n",
    "    cv2.imshow('MyWindow',frame)\n",
    "    success, frame = cameraCapture.read()\n",
    "\n",
    "\n",
    "cv2.destroyWindow('MyWindow')\n",
    "cameraCapture.release()\n",
    "cv2.destroyAllWindows()\n"
   ]
  },
  {
   "cell_type": "code",
   "execution_count": 14,
   "metadata": {},
   "outputs": [],
   "source": [
    "from scipy import ndimage\n",
    "\n",
    "kernel_3_3 = np.array([[-1 , -1, -1],\n",
    "                      [-1,8, -1],\n",
    "                      [-1, -1, -1]])\n",
    "\n",
    "kernel5_5 = np.array([[-1, -1, -1, -1, -1], \n",
    "                      [-1,  1,  2,  1, -1],\n",
    "                      [-1,  2,  4,  2, -1],\n",
    "                      [-1,  1,  2,  1, -1],\n",
    "                      [-1, -1, -1, -1, -1]])\n",
    "\n",
    "\n",
    "img = cv2.imread(\"E:\\openCvImage\\Origan Image.jpg\",0)\n",
    "\n",
    "cv2.imshow('gray Image',img)\n",
    "\n",
    "k3= ndimage.convolve(img, kernel_3_3)\n",
    "k5= ndimage.convolve(img, kernel5_5)\n",
    "\n",
    "blurred = cv2.GaussianBlur(img,(11,11),0)\n",
    "\n",
    "g_hpf = img - blurred\n",
    "cv2.imshow('3*3',k3)\n",
    "cv2.imshow(\"5*5\",k5)\n",
    "cv2.imshow('g_hpf',g_hpf)\n",
    "\n",
    "#cv2.imwrite('E:\\openCvImage\\BookImages\\Kernel3x3 Image.jpg',k3)\n",
    "#cv2.imwrite('E:\\openCvImage\\BookImages\\Kernel5x5 Image.jpg',k5)\n",
    "#cv2.imwrite('E:\\openCvImage\\BookImages\\h_hpf Image.jpg',g_hpf)\n",
    "cv2.waitKey(0)\n",
    "cv2.destroyAllWindows()\n",
    "\n",
    "\n"
   ]
  },
  {
   "cell_type": "code",
   "execution_count": 17,
   "metadata": {},
   "outputs": [],
   "source": [
    "import utils\n",
    "import scipy.interpolate"
   ]
  },
  {
   "cell_type": "code",
   "execution_count": 40,
   "metadata": {},
   "outputs": [],
   "source": [
    "# Image Edge detection using canny function\n",
    "img = cv2.imread(\"E:\\openCvImage\\Origan Image.jpg\",0)\n",
    "#cv2.imwrite(\"E:\\openCvImage\\BookImages\\CannyImage.jpg\", cv2.Canny(img, 200, 300))\n",
    "#cv2.imshow(\"canny\", cv2.imread(\"E:\\openCvImage\\BookImages\\CannyImage.jpg\"))\n",
    "\n",
    "canny = cv2.Canny(img,20,170)\n",
    "cv2.imshow('Canny Image',canny)\n",
    "cv2.imwrite('E:\\openCvImage\\BookImages\\CannyImage2.jpg',canny)\n",
    "cv2.waitKey(0)\n",
    "cv2.destroyAllWindows()"
   ]
  },
  {
   "cell_type": "code",
   "execution_count": 14,
   "metadata": {},
   "outputs": [
    {
     "name": "stdout",
     "output_type": "stream",
     "text": [
      "[[0 0 0 ... 0 0 0]\n",
      " [0 0 0 ... 0 0 0]\n",
      " [0 0 0 ... 0 0 0]\n",
      " ...\n",
      " [0 0 0 ... 0 0 0]\n",
      " [0 0 0 ... 0 0 0]\n",
      " [0 0 0 ... 0 0 0]]\n",
      "(200, 200)\n",
      "40000\n",
      "127.0\n",
      "[[0 0 0 ... 0 0 0]\n",
      " [0 0 0 ... 0 0 0]\n",
      " [0 0 0 ... 0 0 0]\n",
      " ...\n",
      " [0 0 0 ... 0 0 0]\n",
      " [0 0 0 ... 0 0 0]\n",
      " [0 0 0 ... 0 0 0]]\n"
     ]
    }
   ],
   "source": [
    "#Contour detection\n",
    "\n",
    "img = np.zeros((200,200),dtype=np.uint8)\n",
    "img[50:150,50:150] =255\n",
    "print(img)\n",
    "print(img.shape)\n",
    "print(img.size)\n",
    "ret, thresh = cv2.threshold(img, 127,255,0)\n",
    "print(ret)\n",
    "print(thresh)\n",
    "image, contours, hierarchy = cv2.findContours(thresh,cv2.RETR_TREE,cv2.CHAIN_APPROX_SIMPLE)\n",
    "color = cv2.cvtColor(img,cv2.COLOR_GRAY2BGR)\n",
    "img = cv2.drawContours(color,contours,-1,(255,5,255),2)\n",
    "cv2.imshow(\"contours\",color)\n",
    "\n",
    "cv2.waitKey(0)\n",
    "cv2.destroyAllWindows()"
   ]
  },
  {
   "cell_type": "code",
   "execution_count": 11,
   "metadata": {},
   "outputs": [
    {
     "ename": "error",
     "evalue": "OpenCV(3.4.1) C:\\Miniconda3\\conda-bld\\opencv-suite_1533128839831\\work\\modules\\imgproc\\src\\color.cpp:11147: error: (-215) scn == 3 || scn == 4 in function cv::cvtColor\n",
     "output_type": "error",
     "traceback": [
      "\u001b[1;31m---------------------------------------------------------------------------\u001b[0m",
      "\u001b[1;31merror\u001b[0m                                     Traceback (most recent call last)",
      "\u001b[1;32m<ipython-input-11-12f911ab68f7>\u001b[0m in \u001b[0;36m<module>\u001b[1;34m()\u001b[0m\n\u001b[0;32m      1\u001b[0m \u001b[1;31m#img = cv2.pyrDown(cv2.imread('E:\\openCvImage\\BookImages\\Lina.png',cv2.IMREAD_UNCHANGED))\u001b[0m\u001b[1;33m\u001b[0m\u001b[1;33m\u001b[0m\u001b[0m\n\u001b[0;32m      2\u001b[0m \u001b[0mimg\u001b[0m \u001b[1;33m=\u001b[0m \u001b[0mcv2\u001b[0m\u001b[1;33m.\u001b[0m\u001b[0mimread\u001b[0m\u001b[1;33m(\u001b[0m\u001b[1;34m\"E:\\openCvImage\\BookImages\\Lina.png\"\u001b[0m\u001b[1;33m,\u001b[0m\u001b[1;36m0\u001b[0m\u001b[1;33m)\u001b[0m\u001b[1;33m\u001b[0m\u001b[0m\n\u001b[1;32m----> 3\u001b[1;33m \u001b[0mret\u001b[0m\u001b[1;33m,\u001b[0m \u001b[0mthresh\u001b[0m \u001b[1;33m=\u001b[0m \u001b[0mcv2\u001b[0m\u001b[1;33m.\u001b[0m\u001b[0mthreshold\u001b[0m\u001b[1;33m(\u001b[0m\u001b[0mcv2\u001b[0m\u001b[1;33m.\u001b[0m\u001b[0mcvtColor\u001b[0m\u001b[1;33m(\u001b[0m\u001b[0mimg\u001b[0m\u001b[1;33m.\u001b[0m\u001b[0mcopy\u001b[0m\u001b[1;33m(\u001b[0m\u001b[1;33m)\u001b[0m\u001b[1;33m,\u001b[0m\u001b[0mcv2\u001b[0m\u001b[1;33m.\u001b[0m\u001b[0mCOLOR_BGR2GRAY\u001b[0m\u001b[1;33m)\u001b[0m\u001b[1;33m,\u001b[0m\u001b[1;36m127\u001b[0m\u001b[1;33m,\u001b[0m\u001b[1;36m255\u001b[0m\u001b[1;33m,\u001b[0m\u001b[0mcv2\u001b[0m\u001b[1;33m.\u001b[0m\u001b[0mTHRESH_BINARY\u001b[0m\u001b[1;33m)\u001b[0m\u001b[1;33m\u001b[0m\u001b[0m\n\u001b[0m\u001b[0;32m      4\u001b[0m \u001b[0mimage\u001b[0m\u001b[1;33m,\u001b[0m \u001b[0mcontours\u001b[0m\u001b[1;33m,\u001b[0m \u001b[0mhier\u001b[0m \u001b[1;33m=\u001b[0m \u001b[0mcv2\u001b[0m\u001b[1;33m.\u001b[0m\u001b[0mfindContours\u001b[0m\u001b[1;33m(\u001b[0m\u001b[0mthresh\u001b[0m\u001b[1;33m,\u001b[0m\u001b[0mcv2\u001b[0m\u001b[1;33m.\u001b[0m\u001b[0mRETR_EXTERNAL\u001b[0m\u001b[1;33m,\u001b[0m\u001b[0mcv2\u001b[0m\u001b[1;33m.\u001b[0m\u001b[0mCHAIN_APPROX_SIMPLE\u001b[0m\u001b[1;33m)\u001b[0m\u001b[1;33m\u001b[0m\u001b[0m\n\u001b[0;32m      5\u001b[0m \u001b[0mprint\u001b[0m\u001b[1;33m(\u001b[0m\u001b[0mcontours\u001b[0m\u001b[1;33m)\u001b[0m\u001b[1;33m\u001b[0m\u001b[0m\n",
      "\u001b[1;31merror\u001b[0m: OpenCV(3.4.1) C:\\Miniconda3\\conda-bld\\opencv-suite_1533128839831\\work\\modules\\imgproc\\src\\color.cpp:11147: error: (-215) scn == 3 || scn == 4 in function cv::cvtColor\n"
     ]
    }
   ],
   "source": [
    "#img = cv2.pyrDown(cv2.imread('E:\\openCvImage\\BookImages\\Lina.png',cv2.IMREAD_UNCHANGED))\n",
    "img = cv2.imread(\"E:\\openCvImage\\BookImages\\Lina.png\",0)\n",
    "ret, thresh = cv2.threshold(cv2.cvtColor(img.copy(),cv2.COLOR_BGR2GRAY),127,255,cv2.THRESH_BINARY)\n",
    "image, contours, hier = cv2.findContours(thresh,cv2.RETR_EXTERNAL,cv2.CHAIN_APPROX_SIMPLE)\n",
    "print(contours)\n",
    "for c in  contours:\n",
    "    x,y,w,h = cv2.boundingRect(c)\n",
    "    print(x,y,w,h)\n",
    "    print(\"x+y\",x+w,y+h)\n",
    "    cv2.rectangle(img,(x,y),(x+w,y+h),(0,255,0),2)\n",
    "    #find minimum area\n",
    "    rect = cv2.minAreaRect(c)\n",
    "    print(\"rect\",rect)\n",
    "    #calculate coordinates of the minimum area rectangle\n",
    "    box = cv2.boxPoints(rect)\n",
    "    #normalize coordinate to integer\n",
    "    box = np.int0(box)\n",
    "    print(\"box\",box)\n",
    "    #draw contours\n",
    "    cv2.drawContours(img,[box],0,(0,0,255),3)\n",
    "    #calculate center and radius of minimum enclosing circle\n",
    "    (x,y),radius = cv2.minEnclosingCircle(c)\n",
    "    #cast to integer\n",
    "    center = (int(x),int(y))\n",
    "    radius=int(radius)\n",
    "    #draw the circle\n",
    "    img = cv2.circle(img,center,radius,(0,255,0),2)\n",
    "\n",
    "    \n",
    "cv2.drawContours(img,contours,-1,(255,0,0),1)\n",
    "cv2.imshow('countors',img)\n",
    "cv2.waitKey(0)\n",
    "cv2.destroyAllWindows()"
   ]
  },
  {
   "cell_type": "code",
   "execution_count": 2,
   "metadata": {},
   "outputs": [
    {
     "name": "stdout",
     "output_type": "stream",
     "text": [
      "[[  0   0   0 ...   0   0   0]\n",
      " [  0 255 255 ...   0   0   0]\n",
      " [  0 255 255 ...   0   0   0]\n",
      " ...\n",
      " [  0   0   0 ... 255 255 255]\n",
      " [  0   0   0 ... 255 255 255]\n",
      " [  0   0   0 ... 255 255 255]]\n"
     ]
    }
   ],
   "source": [
    "img = cv2.imread(\"E:\\openCvImage\\Origan Image.jpg\",0)\n",
    "#print(img)\n",
    "cv2.imshow('image',img)\n",
    "ret,bw = cv2.threshold(img,127,255,cv2.THRESH_BINARY)\n",
    "cv2.imshow('Binary image',bw)\n",
    "print(bw)\n",
    "cv2.waitKey(0)\n",
    "cv2.destroyAllWindows()"
   ]
  },
  {
   "cell_type": "code",
   "execution_count": 13,
   "metadata": {},
   "outputs": [],
   "source": [
    "img = cv2.imread('E:\\openCvImage\\BookImages\\lines.jpg')\n",
    "gray= cv2.cvtColor(img,cv2.COLOR_BGR2GRAY)\n",
    "edges = cv2.Canny(gray,50,120)\n",
    "minLineLength=20\n",
    "maxLineGap=5\n",
    "lines= cv2.HoughLinesP(edges,1,np.pi/180,100,minLineLength,maxLineGap)\n",
    "\n",
    "for x1,y1,x2,y2 in lines[0]:\n",
    "    cv2.line(img,(x1,y1),(x2,y2),(0,255,0),2)\n",
    "    \n",
    "cv2.imshow(\"edges\",edges)\n",
    "cv2.imshow(\"lines\",img)\n",
    "cv2.imwrite(\"E:\\openCvImage\\BookImages\\LineEdges.jpg\",edges)\n",
    "cv2.waitKey(0)\n",
    "cv2.destroyAllWindows()\n"
   ]
  },
  {
   "cell_type": "code",
   "execution_count": 17,
   "metadata": {},
   "outputs": [],
   "source": [
    "planets = cv2.imread('E:\\openCvImage\\BookImages\\Example_print.jpg')\n",
    "gray_img =cv2.cvtColor(planets,cv2.COLOR_BGR2GRAY)\n",
    "img = cv2.medianBlur(gray_img,5)\n",
    "#cimg = cv2.cvtColor(img,cv2.COLOR_GRAY2BGR)\n",
    "circles = cv2.HoughCircles(img,cv2.HOUGH_GRADIENT,1.2,120,param1=100,param2=80,minRadius=0,maxRadius=0)\n",
    "circles= np.uint16(np.around(circles))\n",
    "for i in circles[0,:]:\n",
    "    #draw the outer circle\n",
    "    cv2.circle(planets,(i[0],i[1]),i[2],(0,255,255),2)\n",
    "    #draw the center the of the circle\n",
    "    cv2.circle(planets,(i[0],i[1]),2,(0,0,255),3)\n",
    "    \n",
    "    \n",
    "cv2.imwrite(\"E:\\openCvImage\\BookImages\\ImpotentCircleDetect.jpg\",planets)\n",
    "cv2.imshow(\"HoughCircles\",planets)\n",
    "cv2.waitKey(0)\n",
    "cv2.destroyAllWindows()\n",
    "    \n",
    "    "
   ]
  },
  {
   "cell_type": "code",
   "execution_count": 9,
   "metadata": {},
   "outputs": [],
   "source": [
    "img = cv2.imread('E:\\openCvImage\\BookImages\\images.png',0)\n",
    "cv2.imshow(\"original image\",img)\n",
    "img = cv2.medianBlur(img,5)\n",
    "cimg = cv2.cvtColor(img,cv2.COLOR_GRAY2BGR)\n",
    "\n",
    "circles = cv2.HoughCircles(img,cv2.HOUGH_GRADIENT,1.2,70,param1=50,param2=30,minRadius=0,maxRadius=0)\n",
    "\n",
    "circles = np.uint16(np.around(circles))\n",
    "for i in circles[0,:]:\n",
    "    # draw the outer circle\n",
    "    cv2.circle(cimg,(i[0],i[1]),i[2],(0,255,0),2)\n",
    "    # draw the center of the circle\n",
    "    cv2.circle(cimg,(i[0],i[1]),2,(0,0,255),3)\n",
    "\n",
    "cv2.imshow('detected circles',cimg)\n",
    "cv2.waitKey(0)\n",
    "cv2.destroyAllWindows()"
   ]
  },
  {
   "cell_type": "code",
   "execution_count": null,
   "metadata": {},
   "outputs": [],
   "source": []
  },
  {
   "cell_type": "code",
   "execution_count": 6,
   "metadata": {},
   "outputs": [],
   "source": [
    "img = cv2.imread('E:\\openCvImage\\BookImages\\lines.jpg',0)\n",
    "edges = cv2.Canny(img,50,150,apertureSize=3)\n",
    "lines = cv2.HoughLines(edges,1,np.pi/180,200)\n",
    "for line in lines:\n",
    "    rho, theta = line[0]\n",
    "    a= np.cos(theta)\n",
    "    b= np.sin(theta)\n",
    "    x0=a*rho\n",
    "    y0=b*rho\n",
    "    x1=int(x0+1000*(-b))\n",
    "    y1=int(y0+1000*(a))\n",
    "    x2=int(x0-1000*(-b))\n",
    "    y2=int(y0-1000*(a))\n",
    "    \n",
    "    cv2.line(img,(x1,y1),(x2,y2),(0,0,255),2)\n",
    "    \n",
    "cv2.imshow('Image',img)    \n",
    "cv2.imwrite('E:penCvImage\\BookImages\\LinesDetectionImage.jpg',img)\n",
    "cv2.waitKey(0)\n",
    "cv2.destroyAllWindows()\n",
    "\n",
    "\n",
    "    "
   ]
  },
  {
   "cell_type": "code",
   "execution_count": 23,
   "metadata": {},
   "outputs": [],
   "source": [
    "# Python program to illustrate HoughLine \n",
    "# method for line detection \n",
    "import cv2 \n",
    "import numpy as np \n",
    "  \n",
    "# Reading the required image in  \n",
    "# which operations are to be done.  \n",
    "# Make sure that the image is in the same  \n",
    "# directory in which this python program is \n",
    "img = cv2.imread('E:\\openCvImage\\BookImages\\ex_of_straight_lines_.png') \n",
    "  \n",
    "# Convert the img to grayscale \n",
    "gray = cv2.cvtColor(img,cv2.COLOR_BGR2GRAY) \n",
    "  \n",
    "# Apply edge detection method on the image \n",
    "edges = cv2.Canny(gray,50,150,apertureSize = 3) \n",
    "  \n",
    "# This returns an array of r and theta values \n",
    "lines = cv2.HoughLines(edges,1,np.pi/180, 200) \n",
    "  \n",
    "# The below for loop runs till r and theta values  \n",
    "# are in the range of the 2d array \n",
    "for r,theta in lines[0]: \n",
    "      \n",
    "    # Stores the value of cos(theta) in a \n",
    "    a = np.cos(theta) \n",
    "  \n",
    "    # Stores the value of sin(theta) in b \n",
    "    b = np.sin(theta) \n",
    "      \n",
    "    # x0 stores the value rcos(theta) \n",
    "    x0 = a*r \n",
    "      \n",
    "    # y0 stores the value rsin(theta) \n",
    "    y0 = b*r \n",
    "      \n",
    "    # x1 stores the rounded off value of (rcos(theta)-1000sin(theta)) \n",
    "    x1 = int(x0 + 1000*(-b)) \n",
    "      \n",
    "    # y1 stores the rounded off value of (rsin(theta)+1000cos(theta)) \n",
    "    y1 = int(y0 + 1000*(a)) \n",
    "  \n",
    "    # x2 stores the rounded off value of (rcos(theta)+1000sin(theta)) \n",
    "    x2 = int(x0 - 1000*(-b)) \n",
    "      \n",
    "    # y2 stores the rounded off value of (rsin(theta)-1000cos(theta)) \n",
    "    y2 = int(y0 - 1000*(a)) \n",
    "      \n",
    "    # cv2.line draws a line in img from the point(x1,y1) to (x2,y2). \n",
    "    # (0,0,255) denotes the colour of the line to be  \n",
    "    #drawn. In this case, it is red.  \n",
    "    cv2.line(img,(x1,y1), (x2,y2), (0,0,255),2) \n",
    "      \n",
    "# All the changes made in the input image are finally \n",
    "# written on a new image houghlines.jpg \n",
    "cv2.imshow('lineDetected',img)\n",
    "#cv2.imwrite('linesDetected.jpg', img) \n",
    "\n",
    "cv2.waitKey(0)\n",
    "cv2.destroyAllWindows()"
   ]
  },
  {
   "cell_type": "code",
   "execution_count": 14,
   "metadata": {},
   "outputs": [],
   "source": [
    "import cv2\n",
    "import numpy as np\n",
    "\n",
    "img = cv2.imread('E:\\openCvImage\\BookImages\\linemy.png')\n",
    "gray = cv2.cvtColor(img,cv2.COLOR_BGR2GRAY)\n",
    "edges = cv2.Canny(gray,50,120)\n",
    "minLineLength = 20\n",
    "maxLineGap = 5\n",
    "lines = cv2.HoughLinesP(edges,1,np.pi/180,20,minLineLength,maxLineGap)\n",
    "for x1,y1,x2,y2 in lines[0]:\n",
    "  cv2.line(img,(x1,y1),(x2,y2),(0,255,0),2)\n",
    "\n",
    "\n",
    "\n",
    "\n",
    "cv2.imshow(\"edges\", edges)\n",
    "cv2.imshow(\"lines\", img)\n",
    "cv2.waitKey()\n",
    "cv2.destroyAllWindows()\n"
   ]
  },
  {
   "cell_type": "code",
   "execution_count": 15,
   "metadata": {},
   "outputs": [
    {
     "ename": "TypeError",
     "evalue": "integer argument expected, got float",
     "output_type": "error",
     "traceback": [
      "\u001b[1;31m---------------------------------------------------------------------------\u001b[0m",
      "\u001b[1;31mTypeError\u001b[0m                                 Traceback (most recent call last)",
      "\u001b[1;32m<ipython-input-15-b54451d4b46f>\u001b[0m in \u001b[0;36m<module>\u001b[1;34m()\u001b[0m\n\u001b[0;32m     28\u001b[0m   \u001b[0mcv2\u001b[0m\u001b[1;33m.\u001b[0m\u001b[0mimshow\u001b[0m\u001b[1;33m(\u001b[0m\u001b[1;34m\"HSV\"\u001b[0m\u001b[1;33m,\u001b[0m \u001b[0mskin\u001b[0m\u001b[1;33m)\u001b[0m\u001b[1;33m\u001b[0m\u001b[0m\n\u001b[0;32m     29\u001b[0m   \u001b[1;31m# quit or save frame\u001b[0m\u001b[1;33m\u001b[0m\u001b[1;33m\u001b[0m\u001b[0m\n\u001b[1;32m---> 30\u001b[1;33m   \u001b[0mkey\u001b[0m \u001b[1;33m=\u001b[0m \u001b[0mcv2\u001b[0m\u001b[1;33m.\u001b[0m\u001b[0mwaitKey\u001b[0m\u001b[1;33m(\u001b[0m\u001b[1;36m1000\u001b[0m \u001b[1;33m/\u001b[0m \u001b[1;36m12\u001b[0m\u001b[1;33m)\u001b[0m \u001b[1;33m&\u001b[0m \u001b[1;36m0xff\u001b[0m\u001b[1;33m\u001b[0m\u001b[0m\n\u001b[0m\u001b[0;32m     31\u001b[0m   \u001b[1;32mif\u001b[0m \u001b[0mkey\u001b[0m \u001b[1;33m==\u001b[0m \u001b[0mord\u001b[0m\u001b[1;33m(\u001b[0m\u001b[1;34m\"q\"\u001b[0m\u001b[1;33m)\u001b[0m\u001b[1;33m:\u001b[0m\u001b[1;33m\u001b[0m\u001b[0m\n\u001b[0;32m     32\u001b[0m     \u001b[1;32mbreak\u001b[0m\u001b[1;33m\u001b[0m\u001b[0m\n",
      "\u001b[1;31mTypeError\u001b[0m: integer argument expected, got float"
     ]
    }
   ],
   "source": [
    "import numpy as np\n",
    "import cv2\n",
    "\n",
    "camera = cv2.VideoCapture(0)\n",
    "\n",
    "# determine upper and lower HSV limits for (my) skin tones\n",
    "lower = np.array([0, 100, 0], dtype=\"uint8\")\n",
    "upper = np.array([50,255,255], dtype=\"uint8\")\n",
    "\n",
    "while (True):\n",
    "  ret, frame = camera.read()\n",
    "  if not ret:\n",
    "    continue\n",
    "  # switch to HSV\n",
    "  hsv = cv2.cvtColor(frame, cv2.COLOR_BGR2HSV)\n",
    "  # find mask of pixels within HSV range\n",
    "  skinMask = cv2.inRange(hsv, lower, upper)\n",
    "  # denoise\n",
    "  skinMask = cv2.GaussianBlur(skinMask, (9, 9), 0)\n",
    "  # kernel for morphology operation\n",
    "  kernel = cv2.getStructuringElement(cv2.MORPH_ELLIPSE, (4, 4))\n",
    "  # CLOSE (dilate / erode)\n",
    "  skinMask = cv2.morphologyEx(skinMask, cv2.MORPH_CLOSE, kernel, iterations = 3)\n",
    "  # denoise the mask\n",
    "  skinMask = cv2.GaussianBlur(skinMask, (9, 9), 0)\n",
    "  # only display the masked pixels\n",
    "  skin = cv2.bitwise_and(frame, frame, mask = skinMask)\n",
    "  cv2.imshow(\"HSV\", skin)\n",
    "  # quit or save frame\n",
    "  key = cv2.waitKey(1000 / 12) & 0xff\n",
    "  if key == ord(\"q\"):\n",
    "    break\n",
    "  if key == ord(\"p\"):\n",
    "    cv2.imwrite(\"E:\\openCvImage\\BookImages\\skinh.jpg\", skin) \n",
    "  \n",
    "\n",
    "camera.release()\n",
    "cv2.destroyAllWindows()\n"
   ]
  },
  {
   "cell_type": "code",
   "execution_count": 2,
   "metadata": {},
   "outputs": [
    {
     "ename": "error",
     "evalue": "OpenCV(3.4.1) C:\\Miniconda3\\conda-bld\\opencv-suite_1533128839831\\work\\modules\\imgproc\\src\\color.cpp:11147: error: (-215) scn == 3 || scn == 4 in function cv::cvtColor\n",
     "output_type": "error",
     "traceback": [
      "\u001b[1;31m---------------------------------------------------------------------------\u001b[0m",
      "\u001b[1;31merror\u001b[0m                                     Traceback (most recent call last)",
      "\u001b[1;32m<ipython-input-2-4f2c0b1d1311>\u001b[0m in \u001b[0;36m<module>\u001b[1;34m()\u001b[0m\n\u001b[0;32m      1\u001b[0m \u001b[0mimg\u001b[0m \u001b[1;33m=\u001b[0m \u001b[0mcv2\u001b[0m\u001b[1;33m.\u001b[0m\u001b[0mimread\u001b[0m\u001b[1;33m(\u001b[0m\u001b[1;34m'dave.jpg'\u001b[0m\u001b[1;33m)\u001b[0m\u001b[1;33m\u001b[0m\u001b[0m\n\u001b[1;32m----> 2\u001b[1;33m \u001b[0mgray\u001b[0m \u001b[1;33m=\u001b[0m \u001b[0mcv2\u001b[0m\u001b[1;33m.\u001b[0m\u001b[0mcvtColor\u001b[0m\u001b[1;33m(\u001b[0m\u001b[0mimg\u001b[0m\u001b[1;33m,\u001b[0m\u001b[0mcv2\u001b[0m\u001b[1;33m.\u001b[0m\u001b[0mCOLOR_BGR2GRAY\u001b[0m\u001b[1;33m)\u001b[0m\u001b[1;33m\u001b[0m\u001b[0m\n\u001b[0m\u001b[0;32m      3\u001b[0m \u001b[0medges\u001b[0m \u001b[1;33m=\u001b[0m \u001b[0mcv2\u001b[0m\u001b[1;33m.\u001b[0m\u001b[0mCanny\u001b[0m\u001b[1;33m(\u001b[0m\u001b[0mgray\u001b[0m\u001b[1;33m,\u001b[0m\u001b[1;36m50\u001b[0m\u001b[1;33m,\u001b[0m\u001b[1;36m150\u001b[0m\u001b[1;33m,\u001b[0m\u001b[0mapertureSize\u001b[0m \u001b[1;33m=\u001b[0m \u001b[1;36m3\u001b[0m\u001b[1;33m)\u001b[0m\u001b[1;33m\u001b[0m\u001b[0m\n\u001b[0;32m      4\u001b[0m \u001b[0mminLineLength\u001b[0m \u001b[1;33m=\u001b[0m \u001b[1;36m100\u001b[0m\u001b[1;33m\u001b[0m\u001b[0m\n\u001b[0;32m      5\u001b[0m \u001b[0mmaxLineGap\u001b[0m \u001b[1;33m=\u001b[0m \u001b[1;36m10\u001b[0m\u001b[1;33m\u001b[0m\u001b[0m\n",
      "\u001b[1;31merror\u001b[0m: OpenCV(3.4.1) C:\\Miniconda3\\conda-bld\\opencv-suite_1533128839831\\work\\modules\\imgproc\\src\\color.cpp:11147: error: (-215) scn == 3 || scn == 4 in function cv::cvtColor\n"
     ]
    }
   ],
   "source": [
    "img = cv2.imread('dave.jpg')\n",
    "gray = cv2.cvtColor(img,cv2.COLOR_BGR2GRAY)\n",
    "edges = cv2.Canny(gray,50,150,apertureSize = 3)\n",
    "minLineLength = 100\n",
    "maxLineGap = 10\n",
    "lines = cv2.HoughLinesP(edges,1,np.pi/180,100,minLineLength,maxLineGap)\n",
    "for x1,y1,x2,y2 in lines[0]:\n",
    "    cv2.line(img,(x1,y1),(x2,y2),(0,255,0),2)\n",
    "\n",
    "cv2.imwrite('houghlines5.jpg',img)"
   ]
  },
  {
   "cell_type": "code",
   "execution_count": 2,
   "metadata": {},
   "outputs": [],
   "source": [
    "img = cv2.imread(\"E:\\openCvImage\\BookImages\\linemy.png\")\n",
    "gray = cv2.cvtColor(img, cv2.COLOR_BGR2GRAY)\n",
    "edges = cv2.Canny(gray, 75, 150)\n",
    " \n",
    "lines = cv2.HoughLinesP(edges, 1, np.pi/180, 30, maxLineGap=250)\n",
    " \n",
    "for line in lines:\n",
    "    x1, y1, x2, y2 = line[0]\n",
    "    cv2.line(img, (x1, y1), (x2, y2), (0, 255, 0), 3)\n",
    " \n",
    "cv2.imshow(\"Edges\", edges)\n",
    "cv2.imshow(\"Image\", img)\n",
    "cv2.waitKey(0)\n",
    "cv2.destroyAllWindows()"
   ]
  },
  {
   "cell_type": "code",
   "execution_count": 13,
   "metadata": {},
   "outputs": [
    {
     "data": {
      "image/png": "[encoded data removed]",
      "text/plain": [
       "<Figure size 432x288 with 1 Axes>"
      ]
     },
     "metadata": {},
     "output_type": "display_data"
    }
   ],
   "source": [
    "from matplotlib import pyplot as plt\n",
    "\n",
    "img1 = cv2.pyrDown(cv2.imread(\"E:\\openCvImage\\BookImages\\depth1.jpg\",0))\n",
    "img2 = cv2.pyrDown(cv2.imread(\"E:\\openCvImage\\BookImages\\depth2.jpg\"))\n",
    "\n",
    "cv2.imshow(\"img1\",img1)\n",
    "cv2.imshow(\"img2\",img2)\n",
    "\n",
    "orb = cv2.ORB_create()\n",
    "\n",
    "kp1, dest1 = orb.detectAndCompute(img1,None)\n",
    "kp2, dest2 = orb.detectAndCompute(img2,None)\n",
    "\n",
    "# create BFMatcher Object\n",
    "bf= cv2.BFMatcher(cv2.NORM_HAMMING,crossCheck=False)\n",
    "\n",
    "#match descroptor\n",
    "matches = bf.match(dest1,dest2)\n",
    "\n",
    "#Sort Them in the order of their distance\n",
    "matches = sorted(matches,key = lambda x:x.distance)\n",
    "\n",
    "#Draw first 10 match\n",
    "\n",
    "img3 = cv2.drawMatches(img1,kp1,img2,kp2,matches,None,flags=2)\n",
    "\n",
    "plt.imshow(img3),plt.show()\n",
    "cv2.imshow('feature map image ',img3)\n",
    "\n",
    "\n",
    "#cv2.imshow(\"image\",img1)\n",
    "cv2.imshow('image1',img1)\n",
    "cv2.imshow('image2',img2)\n",
    "cv2.waitKey(0)\n",
    "cv2.destroyAllWindows()\n"
   ]
  },
  {
   "cell_type": "code",
   "execution_count": 10,
   "metadata": {},
   "outputs": [],
   "source": [
    "from matplotlib import pyplot as plt\n"
   ]
  },
  {
   "cell_type": "code",
   "execution_count": 48,
   "metadata": {},
   "outputs": [
    {
     "data": {
      "image/png": "[encoded data removed]",
      "text/plain": [
       "<Figure size 432x288 with 1 Axes>"
      ]
     },
     "metadata": {},
     "output_type": "display_data"
    }
   ],
   "source": [
    "img1 = cv2.imread('E:\\openCvImage\\BookImages\\depth1.jpg',0)          # queryImage\n",
    "img2 = cv2.imread('E:\\openCvImage\\BookImages\\depth2.jpg',0) # trainImage\n",
    "\n",
    "# Initiate SIFT detector\n",
    "sift = cv2.xfeatures2d.SIFT_create()\n",
    "\n",
    "# find the keypoints and descriptors with SIFT\n",
    "kp1, des1 = sift.detectAndCompute(img1,None)\n",
    "kp2, des2 = sift.detectAndCompute(img2,None)\n",
    "\n",
    "# BFMatcher with default params\n",
    "bf = cv2.BFMatcher()\n",
    "matches = bf.knnMatch(des1,des2, k=2)\n",
    "\n",
    "# Apply ratio test\n",
    "good = []\n",
    "for m,n in matches:\n",
    "\n",
    "    if m.distance < 0.75*n.distance:\n",
    "        good.append([m])\n",
    "\n",
    "# cv2.drawMatchesKnn expects list of lists as matches.\n",
    "img3 = cv2.drawMatchesKnn(img1,kp1,img2,kp2,good[:],None,flags=2)\n",
    "\n",
    "scale_percent=40\n",
    "plt.imshow(img3),plt.show()\n",
    "width = int(img3.shape[1] * scale_percent / 100)\n",
    "height = int(img3.shape[0] * scale_percent / 100)\n",
    "dim=(width,height)\n",
    "#resize image\n",
    "reimg= cv2.resize(img3,dim,interpolation=cv2.INTER_AREA)\n",
    "cv2.imshow('resize',reimg)\n",
    "\n",
    "cv2.waitKey(0)\n",
    "cv2.destroyAllWindows()"
   ]
  },
  {
   "cell_type": "code",
   "execution_count": 36,
   "metadata": {},
   "outputs": [
    {
     "ename": "error",
     "evalue": "OpenCV(3.4.1) C:\\Miniconda3\\conda-bld\\opencv-suite_1533128839831\\work\\modules\\imgproc\\src\\pyramids.cpp:858: error: (-215) !_src.empty() in function cv::pyrDown_\n",
     "output_type": "error",
     "traceback": [
      "\u001b[1;31m---------------------------------------------------------------------------\u001b[0m",
      "\u001b[1;31merror\u001b[0m                                     Traceback (most recent call last)",
      "\u001b[1;32m<ipython-input-36-50720a56f671>\u001b[0m in \u001b[0;36m<module>\u001b[1;34m()\u001b[0m\n\u001b[0;32m      1\u001b[0m \u001b[0mimg\u001b[0m \u001b[1;33m=\u001b[0m \u001b[0mcv2\u001b[0m\u001b[1;33m.\u001b[0m\u001b[0mimread\u001b[0m\u001b[1;33m(\u001b[0m\u001b[1;34m'E:\\openCvImage\\BookImages\\Origan Image.jpg'\u001b[0m\u001b[1;33m,\u001b[0m\u001b[1;36m0\u001b[0m\u001b[1;33m)\u001b[0m\u001b[1;33m\u001b[0m\u001b[0m\n\u001b[1;32m----> 2\u001b[1;33m \u001b[0msmaller\u001b[0m\u001b[1;33m=\u001b[0m\u001b[0mcv2\u001b[0m\u001b[1;33m.\u001b[0m\u001b[0mpyrDown\u001b[0m\u001b[1;33m(\u001b[0m\u001b[0mimg\u001b[0m\u001b[1;33m)\u001b[0m\u001b[1;33m\u001b[0m\u001b[0m\n\u001b[0m\u001b[0;32m      3\u001b[0m \u001b[1;33m\u001b[0m\u001b[0m\n\u001b[0;32m      4\u001b[0m \u001b[0mcv2\u001b[0m\u001b[1;33m.\u001b[0m\u001b[0mimshow\u001b[0m\u001b[1;33m(\u001b[0m\u001b[1;34m'image'\u001b[0m\u001b[1;33m,\u001b[0m\u001b[0msmaller\u001b[0m\u001b[1;33m)\u001b[0m\u001b[1;33m\u001b[0m\u001b[0m\n\u001b[0;32m      5\u001b[0m \u001b[1;33m\u001b[0m\u001b[0m\n",
      "\u001b[1;31merror\u001b[0m: OpenCV(3.4.1) C:\\Miniconda3\\conda-bld\\opencv-suite_1533128839831\\work\\modules\\imgproc\\src\\pyramids.cpp:858: error: (-215) !_src.empty() in function cv::pyrDown_\n"
     ]
    }
   ],
   "source": [
    "img = cv2.imread('E:\\openCvImage\\BookImages\\Origan Image.jpg',0)\n",
    "smaller=cv2.pyrDown(img)\n",
    "\n",
    "cv2.imshow('image',smaller)\n",
    "\n",
    "\n",
    "cv2.waitKey(0)\n",
    "cv2.destroyAllWindows()"
   ]
  },
  {
   "cell_type": "code",
   "execution_count": null,
   "metadata": {},
   "outputs": [],
   "source": []
  },
  {
   "cell_type": "code",
   "execution_count": null,
   "metadata": {},
   "outputs": [],
   "source": []
  }
 ],
 "metadata": {
  "kernelspec": {
   "display_name": "Python 3",
   "language": "python",
   "name": "python3"
  },
  "language_info": {
   "codemirror_mode": {
    "name": "ipython",
    "version": 3
   },
   "file_extension": ".py",
   "mimetype": "text/x-python",
   "name": "python",
   "nbconvert_exporter": "python",
   "pygments_lexer": "ipython3",
   "version": "3.6.5"
  }
 },
 "nbformat": 4,
 "nbformat_minor": 2
}
