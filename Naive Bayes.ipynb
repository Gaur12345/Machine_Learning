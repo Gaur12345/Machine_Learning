{
 "cells": [
  {
   "cell_type": "code",
   "execution_count": 1,
   "metadata": {},
   "outputs": [],
   "source": [
    "import numpy as np\n",
    "import pandas as pd\n",
    "import matplotlib.pyplot as plt\n",
    "import seaborn as sns\n",
    "%matplotlib inline"
   ]
  },
  {
   "cell_type": "code",
   "execution_count": 2,
   "metadata": {},
   "outputs": [],
   "source": [
    "from sklearn import datasets"
   ]
  },
  {
   "cell_type": "code",
   "execution_count": 3,
   "metadata": {},
   "outputs": [],
   "source": [
    "digit_data = datasets.load_digits()"
   ]
  },
  {
   "cell_type": "code",
   "execution_count": 4,
   "metadata": {},
   "outputs": [
    {
     "data": {
      "text/plain": [
       "sklearn.utils.Bunch"
      ]
     },
     "execution_count": 4,
     "metadata": {},
     "output_type": "execute_result"
    }
   ],
   "source": [
    "type(digit_data)"
   ]
  },
  {
   "cell_type": "code",
   "execution_count": 5,
   "metadata": {},
   "outputs": [
    {
     "data": {
      "text/plain": [
       "{'data': array([[ 0.,  0.,  5., ...,  0.,  0.,  0.],\n",
       "        [ 0.,  0.,  0., ..., 10.,  0.,  0.],\n",
       "        [ 0.,  0.,  0., ..., 16.,  9.,  0.],\n",
       "        ...,\n",
       "        [ 0.,  0.,  1., ...,  6.,  0.,  0.],\n",
       "        [ 0.,  0.,  2., ..., 12.,  0.,  0.],\n",
       "        [ 0.,  0., 10., ..., 12.,  1.,  0.]]),\n",
       " 'target': array([0, 1, 2, ..., 8, 9, 8]),\n",
       " 'target_names': array([0, 1, 2, 3, 4, 5, 6, 7, 8, 9]),\n",
       " 'images': array([[[ 0.,  0.,  5., ...,  1.,  0.,  0.],\n",
       "         [ 0.,  0., 13., ..., 15.,  5.,  0.],\n",
       "         [ 0.,  3., 15., ..., 11.,  8.,  0.],\n",
       "         ...,\n",
       "         [ 0.,  4., 11., ..., 12.,  7.,  0.],\n",
       "         [ 0.,  2., 14., ..., 12.,  0.,  0.],\n",
       "         [ 0.,  0.,  6., ...,  0.,  0.,  0.]],\n",
       " \n",
       "        [[ 0.,  0.,  0., ...,  5.,  0.,  0.],\n",
       "         [ 0.,  0.,  0., ...,  9.,  0.,  0.],\n",
       "         [ 0.,  0.,  3., ...,  6.,  0.,  0.],\n",
       "         ...,\n",
       "         [ 0.,  0.,  1., ...,  6.,  0.,  0.],\n",
       "         [ 0.,  0.,  1., ...,  6.,  0.,  0.],\n",
       "         [ 0.,  0.,  0., ..., 10.,  0.,  0.]],\n",
       " \n",
       "        [[ 0.,  0.,  0., ..., 12.,  0.,  0.],\n",
       "         [ 0.,  0.,  3., ..., 14.,  0.,  0.],\n",
       "         [ 0.,  0.,  8., ..., 16.,  0.,  0.],\n",
       "         ...,\n",
       "         [ 0.,  9., 16., ...,  0.,  0.,  0.],\n",
       "         [ 0.,  3., 13., ..., 11.,  5.,  0.],\n",
       "         [ 0.,  0.,  0., ..., 16.,  9.,  0.]],\n",
       " \n",
       "        ...,\n",
       " \n",
       "        [[ 0.,  0.,  1., ...,  1.,  0.,  0.],\n",
       "         [ 0.,  0., 13., ...,  2.,  1.,  0.],\n",
       "         [ 0.,  0., 16., ..., 16.,  5.,  0.],\n",
       "         ...,\n",
       "         [ 0.,  0., 16., ..., 15.,  0.,  0.],\n",
       "         [ 0.,  0., 15., ..., 16.,  0.,  0.],\n",
       "         [ 0.,  0.,  2., ...,  6.,  0.,  0.]],\n",
       " \n",
       "        [[ 0.,  0.,  2., ...,  0.,  0.,  0.],\n",
       "         [ 0.,  0., 14., ..., 15.,  1.,  0.],\n",
       "         [ 0.,  4., 16., ..., 16.,  7.,  0.],\n",
       "         ...,\n",
       "         [ 0.,  0.,  0., ..., 16.,  2.,  0.],\n",
       "         [ 0.,  0.,  4., ..., 16.,  2.,  0.],\n",
       "         [ 0.,  0.,  5., ..., 12.,  0.,  0.]],\n",
       " \n",
       "        [[ 0.,  0., 10., ...,  1.,  0.,  0.],\n",
       "         [ 0.,  2., 16., ...,  1.,  0.,  0.],\n",
       "         [ 0.,  0., 15., ..., 15.,  0.,  0.],\n",
       "         ...,\n",
       "         [ 0.,  4., 16., ..., 16.,  6.,  0.],\n",
       "         [ 0.,  8., 16., ..., 16.,  8.,  0.],\n",
       "         [ 0.,  1.,  8., ..., 12.,  1.,  0.]]]),\n",
       " 'DESCR': \"Optical Recognition of Handwritten Digits Data Set\\n===================================================\\n\\nNotes\\n-----\\nData Set Characteristics:\\n    :Number of Instances: 5620\\n    :Number of Attributes: 64\\n    :Attribute Information: 8x8 image of integer pixels in the range 0..16.\\n    :Missing Attribute Values: None\\n    :Creator: E. Alpaydin (alpaydin '@' boun.edu.tr)\\n    :Date: July; 1998\\n\\nThis is a copy of the test set of the UCI ML hand-written digits datasets\\nhttp://archive.ics.uci.edu/ml/datasets/Optical+Recognition+of+Handwritten+Digits\\n\\nThe data set contains images of hand-written digits: 10 classes where\\neach class refers to a digit.\\n\\nPreprocessing programs made available by NIST were used to extract\\nnormalized bitmaps of handwritten digits from a preprinted form. From a\\ntotal of 43 people, 30 contributed to the training set and different 13\\nto the test set. 32x32 bitmaps are divided into nonoverlapping blocks of\\n4x4 and the number of on pixels are counted in each block. This generates\\nan input matrix of 8x8 where each element is an integer in the range\\n0..16. This reduces dimensionality and gives invariance to small\\ndistortions.\\n\\nFor info on NIST preprocessing routines, see M. D. Garris, J. L. Blue, G.\\nT. Candela, D. L. Dimmick, J. Geist, P. J. Grother, S. A. Janet, and C.\\nL. Wilson, NIST Form-Based Handprint Recognition System, NISTIR 5469,\\n1994.\\n\\nReferences\\n----------\\n  - C. Kaynak (1995) Methods of Combining Multiple Classifiers and Their\\n    Applications to Handwritten Digit Recognition, MSc Thesis, Institute of\\n    Graduate Studies in Science and Engineering, Bogazici University.\\n  - E. Alpaydin, C. Kaynak (1998) Cascading Classifiers, Kybernetika.\\n  - Ken Tang and Ponnuthurai N. Suganthan and Xi Yao and A. Kai Qin.\\n    Linear dimensionalityreduction using relevance weighted LDA. School of\\n    Electrical and Electronic Engineering Nanyang Technological University.\\n    2005.\\n  - Claudio Gentile. A New Approximate Maximal Margin Classification\\n    Algorithm. NIPS. 2000.\\n\"}"
      ]
     },
     "execution_count": 5,
     "metadata": {},
     "output_type": "execute_result"
    }
   ],
   "source": [
    "digit_data"
   ]
  },
  {
   "cell_type": "code",
   "execution_count": 6,
   "metadata": {},
   "outputs": [],
   "source": [
    "_image = digit_data.images"
   ]
  },
  {
   "cell_type": "code",
   "execution_count": 7,
   "metadata": {},
   "outputs": [
    {
     "data": {
      "text/plain": [
       "115008"
      ]
     },
     "execution_count": 7,
     "metadata": {},
     "output_type": "execute_result"
    }
   ],
   "source": [
    "_image.size"
   ]
  },
  {
   "cell_type": "code",
   "execution_count": 8,
   "metadata": {},
   "outputs": [
    {
     "data": {
      "text/plain": [
       "array([[ 0.,  0.,  5., 13.,  9.,  1.,  0.,  0.],\n",
       "       [ 0.,  0., 13., 15., 10., 15.,  5.,  0.],\n",
       "       [ 0.,  3., 15.,  2.,  0., 11.,  8.,  0.],\n",
       "       [ 0.,  4., 12.,  0.,  0.,  8.,  8.,  0.],\n",
       "       [ 0.,  5.,  8.,  0.,  0.,  9.,  8.,  0.],\n",
       "       [ 0.,  4., 11.,  0.,  1., 12.,  7.,  0.],\n",
       "       [ 0.,  2., 14.,  5., 10., 12.,  0.,  0.],\n",
       "       [ 0.,  0.,  6., 13., 10.,  0.,  0.,  0.]])"
      ]
     },
     "execution_count": 8,
     "metadata": {},
     "output_type": "execute_result"
    }
   ],
   "source": [
    "_image[0]"
   ]
  },
  {
   "cell_type": "code",
   "execution_count": 9,
   "metadata": {},
   "outputs": [
    {
     "data": {
      "text/plain": [
       "<matplotlib.image.AxesImage at 0x20862f035c0>"
      ]
     },
     "execution_count": 9,
     "metadata": {},
     "output_type": "execute_result"
    },
    {
     "data": {
      "image/png": "[encoded data removed]",
      "text/plain": [
       "<Figure size 432x288 with 1 Axes>"
      ]
     },
     "metadata": {},
     "output_type": "display_data"
    }
   ],
   "source": [
    "plt.imshow(_image[10],cmap='viridis')"
   ]
  },
  {
   "cell_type": "code",
   "execution_count": 10,
   "metadata": {},
   "outputs": [],
   "source": [
    "_data = digit_data.data"
   ]
  },
  {
   "cell_type": "code",
   "execution_count": 11,
   "metadata": {},
   "outputs": [],
   "source": [
    "_target = digit_data.target"
   ]
  },
  {
   "cell_type": "code",
   "execution_count": 12,
   "metadata": {},
   "outputs": [],
   "source": [
    "from sklearn.model_selection import train_test_split"
   ]
  },
  {
   "cell_type": "code",
   "execution_count": 13,
   "metadata": {},
   "outputs": [],
   "source": [
    "x_train,x_test,y_train,y_test=train_test_split(_data,_target,test_size=0.4)"
   ]
  },
  {
   "cell_type": "code",
   "execution_count": 14,
   "metadata": {},
   "outputs": [
    {
     "data": {
      "text/plain": [
       "68992"
      ]
     },
     "execution_count": 14,
     "metadata": {},
     "output_type": "execute_result"
    }
   ],
   "source": [
    "x_train.size"
   ]
  },
  {
   "cell_type": "code",
   "execution_count": 15,
   "metadata": {},
   "outputs": [
    {
     "data": {
      "text/plain": [
       "46016"
      ]
     },
     "execution_count": 15,
     "metadata": {},
     "output_type": "execute_result"
    }
   ],
   "source": [
    "x_test.size"
   ]
  },
  {
   "cell_type": "code",
   "execution_count": 16,
   "metadata": {},
   "outputs": [],
   "source": [
    "from sklearn.naive_bayes import GaussianNB"
   ]
  },
  {
   "cell_type": "code",
   "execution_count": 17,
   "metadata": {},
   "outputs": [],
   "source": [
    "digit_recogizer =GaussianNB()"
   ]
  },
  {
   "cell_type": "code",
   "execution_count": 18,
   "metadata": {},
   "outputs": [
    {
     "data": {
      "text/plain": [
       "sklearn.naive_bayes.GaussianNB"
      ]
     },
     "execution_count": 18,
     "metadata": {},
     "output_type": "execute_result"
    }
   ],
   "source": [
    "type(digit_recogizer)"
   ]
  },
  {
   "cell_type": "code",
   "execution_count": 19,
   "metadata": {},
   "outputs": [
    {
     "data": {
      "text/plain": [
       "GaussianNB(priors=None)"
      ]
     },
     "execution_count": 19,
     "metadata": {},
     "output_type": "execute_result"
    }
   ],
   "source": [
    "digit_recogizer.fit(x_train,y_train)"
   ]
  },
  {
   "cell_type": "code",
   "execution_count": 20,
   "metadata": {},
   "outputs": [],
   "source": [
    "prec=digit_recogizer.predict(x_test)"
   ]
  },
  {
   "cell_type": "code",
   "execution_count": 21,
   "metadata": {},
   "outputs": [
    {
     "data": {
      "text/plain": [
       "array([4, 7, 7, 0, 1, 9, 3, 7, 1, 4, 8, 2, 0, 0, 7, 4, 1, 8, 3, 2, 7, 6,\n",
       "       1, 8, 0, 8, 1, 6, 7, 8, 5, 8, 5, 4, 9, 2, 5, 7, 4, 0, 9, 5, 7, 7,\n",
       "       1, 3, 6, 6, 8, 3, 8, 4, 6, 3, 6, 4, 7, 0, 9, 7, 3, 0, 8, 1, 2, 6,\n",
       "       9, 4, 5, 0, 4, 6, 8, 3, 1, 8, 1, 5, 3, 1, 2, 8, 6, 1, 6, 5, 7, 8,\n",
       "       5, 7, 0, 0, 2, 0, 3, 1, 1, 7, 5, 7, 7, 8, 9, 2, 6, 4, 7, 6, 8, 8,\n",
       "       3, 8, 7, 1, 2, 7, 9, 0, 4, 6, 4, 6, 3, 4, 0, 1, 3, 4, 1, 4, 8, 2,\n",
       "       4, 7, 5, 6, 7, 7, 7, 3, 6, 5, 2, 1, 6, 4, 9, 7, 1, 4, 6, 1, 3, 8,\n",
       "       1, 6, 3, 8, 8, 7, 2, 9, 3, 3, 9, 6, 7, 8, 8, 6, 3, 7, 1, 7, 0, 0,\n",
       "       5, 7, 4, 4, 9, 1, 1, 5, 0, 9, 7, 6, 0, 5, 7, 4, 8, 9, 8, 1, 8, 5,\n",
       "       2, 3, 5, 7, 0, 0, 4, 7, 4, 6, 2, 0, 2, 8, 1, 9, 1, 4, 5, 7, 1, 0,\n",
       "       1, 3, 7, 7, 9, 8, 1, 7, 3, 4, 4, 5, 4, 2, 9, 4, 8, 6, 8, 2, 6, 6,\n",
       "       3, 9, 0, 9, 5, 4, 2, 2, 7, 9, 2, 2, 2, 8, 7, 7, 6, 8, 5, 5, 7, 0,\n",
       "       9, 0, 6, 6, 4, 5, 4, 4, 7, 0, 8, 1, 8, 4, 7, 7, 6, 7, 3, 2, 0, 1,\n",
       "       3, 2, 3, 2, 5, 1, 4, 4, 7, 4, 8, 3, 3, 2, 0, 2, 0, 1, 5, 6, 8, 3,\n",
       "       4, 8, 4, 1, 9, 0, 5, 6, 7, 4, 7, 7, 8, 6, 1, 4, 8, 9, 1, 1, 6, 6,\n",
       "       8, 8, 0, 7, 3, 8, 8, 5, 1, 3, 6, 5, 7, 6, 1, 8, 1, 6, 2, 7, 5, 3,\n",
       "       9, 8, 3, 4, 8, 7, 5, 1, 0, 6, 8, 5, 8, 0, 8, 8, 3, 4, 7, 7, 1, 7,\n",
       "       3, 5, 3, 3, 4, 7, 6, 0, 7, 0, 6, 8, 9, 2, 8, 2, 0, 6, 0, 4, 4, 0,\n",
       "       0, 4, 4, 5, 8, 6, 7, 2, 5, 1, 1, 0, 7, 0, 6, 1, 2, 8, 1, 1, 6, 9,\n",
       "       0, 0, 8, 3, 3, 4, 3, 3, 3, 5, 8, 8, 4, 2, 4, 8, 8, 3, 8, 9, 5, 8,\n",
       "       6, 8, 8, 1, 9, 7, 8, 5, 9, 2, 1, 1, 0, 7, 0, 5, 6, 8, 7, 4, 3, 5,\n",
       "       4, 4, 3, 6, 6, 2, 5, 3, 7, 4, 1, 8, 0, 3, 1, 1, 5, 0, 5, 7, 3, 6,\n",
       "       3, 2, 7, 5, 7, 8, 0, 7, 1, 1, 6, 6, 1, 3, 8, 3, 3, 3, 6, 6, 9, 8,\n",
       "       9, 5, 3, 2, 8, 8, 1, 7, 4, 6, 1, 9, 7, 4, 0, 4, 1, 8, 5, 8, 1, 1,\n",
       "       9, 3, 6, 6, 3, 3, 9, 5, 1, 5, 5, 0, 0, 7, 0, 8, 7, 1, 6, 5, 6, 0,\n",
       "       9, 7, 6, 9, 5, 8, 4, 7, 3, 8, 5, 5, 0, 4, 8, 9, 3, 9, 7, 7, 3, 1,\n",
       "       7, 7, 2, 1, 3, 4, 4, 2, 0, 0, 0, 7, 1, 1, 7, 6, 1, 1, 1, 1, 9, 3,\n",
       "       8, 5, 8, 7, 0, 7, 3, 4, 4, 0, 9, 1, 7, 9, 8, 7, 8, 7, 1, 6, 5, 9,\n",
       "       1, 3, 7, 0, 6, 7, 4, 8, 4, 1, 0, 1, 8, 7, 8, 0, 6, 7, 7, 7, 8, 6,\n",
       "       3, 7, 5, 3, 2, 8, 0, 7, 6, 0, 4, 0, 7, 0, 7, 0, 8, 2, 1, 1, 2, 0,\n",
       "       7, 8, 8, 8, 1, 0, 3, 5, 1, 9, 1, 6, 1, 1, 8, 3, 3, 7, 1, 1, 4, 1,\n",
       "       1, 1, 7, 7, 7, 7, 8, 0, 8, 1, 8, 1, 6, 7, 5, 8, 0, 2, 3, 3, 3, 6,\n",
       "       3, 1, 0, 5, 3, 1, 7, 2, 4, 2, 6, 3, 8, 1, 1])"
      ]
     },
     "execution_count": 21,
     "metadata": {},
     "output_type": "execute_result"
    }
   ],
   "source": [
    "prec"
   ]
  },
  {
   "cell_type": "code",
   "execution_count": 22,
   "metadata": {},
   "outputs": [
    {
     "data": {
      "text/plain": [
       "array([4, 4, 7, 0, 1, 9, 3, 7, 1, 4, 8, 2, 0, 0, 9, 4, 1, 8, 3, 2, 7, 6,\n",
       "       1, 8, 4, 2, 2, 6, 7, 8, 5, 2, 5, 4, 9, 2, 5, 7, 4, 0, 9, 5, 7, 7,\n",
       "       8, 3, 6, 6, 3, 3, 8, 4, 1, 9, 6, 4, 7, 0, 9, 7, 3, 0, 9, 1, 2, 6,\n",
       "       9, 4, 5, 0, 4, 6, 2, 3, 1, 2, 1, 5, 3, 1, 2, 2, 6, 1, 6, 5, 7, 2,\n",
       "       5, 7, 0, 0, 2, 0, 2, 1, 1, 7, 5, 7, 7, 8, 9, 2, 6, 4, 7, 6, 2, 9,\n",
       "       3, 8, 7, 1, 2, 7, 9, 0, 4, 6, 4, 6, 3, 4, 0, 1, 3, 4, 2, 4, 2, 2,\n",
       "       4, 7, 5, 6, 7, 7, 7, 3, 6, 5, 2, 1, 6, 4, 9, 7, 1, 4, 6, 1, 3, 2,\n",
       "       8, 6, 3, 8, 8, 7, 2, 9, 3, 3, 9, 6, 8, 8, 8, 6, 3, 7, 8, 7, 0, 0,\n",
       "       5, 9, 4, 4, 9, 1, 1, 5, 0, 9, 7, 6, 0, 5, 9, 4, 8, 9, 8, 1, 8, 5,\n",
       "       2, 3, 5, 7, 0, 0, 4, 7, 4, 6, 2, 0, 2, 8, 1, 9, 1, 4, 5, 7, 2, 0,\n",
       "       1, 3, 7, 4, 9, 1, 1, 7, 9, 4, 4, 5, 4, 2, 9, 4, 8, 6, 8, 4, 6, 6,\n",
       "       3, 9, 0, 9, 5, 4, 2, 2, 7, 9, 2, 2, 2, 8, 7, 7, 6, 8, 5, 5, 7, 0,\n",
       "       9, 0, 6, 6, 4, 5, 4, 4, 7, 0, 8, 1, 8, 4, 7, 7, 6, 7, 3, 2, 0, 4,\n",
       "       3, 2, 3, 2, 5, 2, 4, 4, 7, 4, 8, 5, 2, 2, 0, 2, 0, 2, 5, 6, 2, 3,\n",
       "       9, 8, 4, 1, 9, 0, 5, 6, 4, 4, 7, 7, 2, 6, 8, 4, 8, 9, 8, 1, 6, 6,\n",
       "       8, 3, 0, 7, 3, 8, 8, 5, 1, 3, 5, 5, 7, 6, 2, 8, 2, 6, 2, 7, 5, 3,\n",
       "       9, 8, 3, 4, 2, 3, 5, 1, 0, 6, 9, 5, 9, 0, 5, 8, 3, 4, 7, 7, 2, 7,\n",
       "       3, 5, 3, 3, 4, 7, 6, 0, 9, 0, 6, 1, 9, 2, 8, 2, 0, 6, 0, 4, 4, 0,\n",
       "       0, 4, 4, 5, 8, 6, 5, 2, 5, 1, 1, 0, 7, 0, 6, 6, 2, 9, 5, 1, 6, 9,\n",
       "       0, 0, 3, 2, 2, 4, 3, 3, 3, 5, 8, 2, 4, 2, 4, 8, 8, 3, 2, 9, 5, 8,\n",
       "       6, 8, 9, 1, 9, 7, 8, 5, 9, 2, 1, 1, 0, 7, 0, 5, 6, 9, 9, 4, 3, 5,\n",
       "       0, 4, 3, 6, 6, 2, 5, 3, 7, 4, 8, 8, 0, 3, 1, 1, 5, 0, 5, 7, 3, 6,\n",
       "       3, 2, 7, 5, 7, 8, 0, 8, 8, 1, 6, 6, 8, 9, 8, 3, 3, 3, 6, 6, 9, 2,\n",
       "       9, 5, 3, 2, 8, 1, 1, 7, 4, 6, 1, 9, 7, 4, 0, 4, 1, 2, 3, 8, 1, 8,\n",
       "       9, 3, 6, 6, 3, 3, 9, 5, 1, 5, 5, 0, 0, 7, 0, 1, 7, 2, 6, 5, 6, 0,\n",
       "       9, 7, 6, 9, 5, 8, 6, 7, 2, 9, 5, 5, 0, 4, 8, 9, 3, 9, 3, 7, 3, 8,\n",
       "       7, 7, 2, 1, 3, 4, 4, 2, 0, 0, 0, 7, 8, 2, 7, 6, 1, 1, 1, 1, 9, 3,\n",
       "       8, 5, 8, 7, 0, 7, 9, 4, 4, 0, 9, 2, 7, 9, 1, 4, 8, 7, 8, 6, 5, 9,\n",
       "       9, 3, 7, 0, 6, 7, 4, 9, 4, 8, 0, 1, 8, 7, 2, 0, 6, 7, 7, 7, 8, 6,\n",
       "       3, 7, 5, 3, 2, 3, 0, 7, 6, 0, 4, 0, 7, 0, 7, 0, 9, 2, 1, 1, 2, 0,\n",
       "       3, 2, 8, 3, 2, 0, 3, 5, 2, 3, 1, 6, 1, 1, 2, 3, 3, 7, 1, 1, 4, 1,\n",
       "       1, 1, 9, 3, 7, 5, 9, 0, 3, 6, 8, 1, 6, 8, 5, 8, 0, 2, 3, 3, 3, 6,\n",
       "       9, 1, 0, 5, 3, 1, 7, 2, 4, 2, 1, 3, 2, 9, 8])"
      ]
     },
     "execution_count": 22,
     "metadata": {},
     "output_type": "execute_result"
    }
   ],
   "source": [
    "y_test"
   ]
  },
  {
   "cell_type": "code",
   "execution_count": 23,
   "metadata": {},
   "outputs": [],
   "source": [
    "from sklearn.metrics import confusion_matrix"
   ]
  },
  {
   "cell_type": "code",
   "execution_count": 24,
   "metadata": {},
   "outputs": [
    {
     "data": {
      "text/plain": [
       "array([[70,  0,  0,  0,  1,  0,  0,  0,  0,  0],\n",
       "       [ 0, 61,  0,  0,  0,  0,  2,  0,  5,  0],\n",
       "       [ 0, 13, 43,  5,  0,  0,  0,  0, 20,  0],\n",
       "       [ 0,  0,  0, 63,  0,  1,  0,  4,  6,  1],\n",
       "       [ 1,  1,  1,  0, 65,  0,  0,  4,  0,  0],\n",
       "       [ 0,  1,  0,  1,  0, 56,  1,  2,  1,  0],\n",
       "       [ 0,  2,  0,  0,  1,  0, 67,  0,  0,  0],\n",
       "       [ 0,  0,  0,  0,  0,  0,  0, 84,  0,  0],\n",
       "       [ 0, 14,  0,  0,  0,  0,  0,  3, 53,  0],\n",
       "       [ 0,  2,  0,  5,  1,  0,  0,  6, 11, 41]], dtype=int64)"
      ]
     },
     "execution_count": 24,
     "metadata": {},
     "output_type": "execute_result"
    }
   ],
   "source": [
    "confusion_matrix(y_test,prec)"
   ]
  },
  {
   "cell_type": "code",
   "execution_count": 25,
   "metadata": {},
   "outputs": [],
   "source": [
    "c_prec=71+67+49+53+58+69+77+48+48"
   ]
  },
  {
   "cell_type": "code",
   "execution_count": 26,
   "metadata": {},
   "outputs": [
    {
     "data": {
      "text/plain": [
       "540"
      ]
     },
     "execution_count": 26,
     "metadata": {},
     "output_type": "execute_result"
    }
   ],
   "source": [
    "c_prec"
   ]
  },
  {
   "cell_type": "code",
   "execution_count": 27,
   "metadata": {},
   "outputs": [
    {
     "data": {
      "text/plain": [
       "719"
      ]
     },
     "execution_count": 27,
     "metadata": {},
     "output_type": "execute_result"
    }
   ],
   "source": [
    "y_test.size"
   ]
  },
  {
   "cell_type": "code",
   "execution_count": 28,
   "metadata": {},
   "outputs": [
    {
     "data": {
      "text/plain": [
       "0.7510431154381085"
      ]
     },
     "execution_count": 28,
     "metadata": {},
     "output_type": "execute_result"
    }
   ],
   "source": [
    "c_prec/y_test.size"
   ]
  },
  {
   "cell_type": "code",
   "execution_count": 29,
   "metadata": {},
   "outputs": [],
   "source": [
    "bool_val = (prec == y_test)\n",
    "bool_val=bool_val.astype(int)"
   ]
  },
  {
   "cell_type": "code",
   "execution_count": 30,
   "metadata": {},
   "outputs": [],
   "source": [
    "for i,v in enumerate(bool_val):\n",
    "    if v == True:\n",
    "        bool_val[i]=1\n",
    "    else:\n",
    "        bool_val[i]=0"
   ]
  },
  {
   "cell_type": "code",
   "execution_count": 31,
   "metadata": {},
   "outputs": [
    {
     "data": {
      "text/plain": [
       "array([1, 0, 1, 1, 1, 1, 1, 1, 1, 1, 1, 1, 1, 1, 0, 1, 1, 1, 1, 1, 1, 1,\n",
       "       1, 1, 0, 0, 0, 1, 1, 1, 1, 0, 1, 1, 1, 1, 1, 1, 1, 1, 1, 1, 1, 1,\n",
       "       0, 1, 1, 1, 0, 1, 1, 1, 0, 0, 1, 1, 1, 1, 1, 1, 1, 1, 0, 1, 1, 1,\n",
       "       1, 1, 1, 1, 1, 1, 0, 1, 1, 0, 1, 1, 1, 1, 1, 0, 1, 1, 1, 1, 1, 0,\n",
       "       1, 1, 1, 1, 1, 1, 0, 1, 1, 1, 1, 1, 1, 1, 1, 1, 1, 1, 1, 1, 0, 0,\n",
       "       1, 1, 1, 1, 1, 1, 1, 1, 1, 1, 1, 1, 1, 1, 1, 1, 1, 1, 0, 1, 0, 1,\n",
       "       1, 1, 1, 1, 1, 1, 1, 1, 1, 1, 1, 1, 1, 1, 1, 1, 1, 1, 1, 1, 1, 0,\n",
       "       0, 1, 1, 1, 1, 1, 1, 1, 1, 1, 1, 1, 0, 1, 1, 1, 1, 1, 0, 1, 1, 1,\n",
       "       1, 0, 1, 1, 1, 1, 1, 1, 1, 1, 1, 1, 1, 1, 0, 1, 1, 1, 1, 1, 1, 1,\n",
       "       1, 1, 1, 1, 1, 1, 1, 1, 1, 1, 1, 1, 1, 1, 1, 1, 1, 1, 1, 1, 0, 1,\n",
       "       1, 1, 1, 0, 1, 0, 1, 1, 0, 1, 1, 1, 1, 1, 1, 1, 1, 1, 1, 0, 1, 1,\n",
       "       1, 1, 1, 1, 1, 1, 1, 1, 1, 1, 1, 1, 1, 1, 1, 1, 1, 1, 1, 1, 1, 1,\n",
       "       1, 1, 1, 1, 1, 1, 1, 1, 1, 1, 1, 1, 1, 1, 1, 1, 1, 1, 1, 1, 1, 0,\n",
       "       1, 1, 1, 1, 1, 0, 1, 1, 1, 1, 1, 0, 0, 1, 1, 1, 1, 0, 1, 1, 0, 1,\n",
       "       0, 1, 1, 1, 1, 1, 1, 1, 0, 1, 1, 1, 0, 1, 0, 1, 1, 1, 0, 1, 1, 1,\n",
       "       1, 0, 1, 1, 1, 1, 1, 1, 1, 1, 0, 1, 1, 1, 0, 1, 0, 1, 1, 1, 1, 1,\n",
       "       1, 1, 1, 1, 0, 0, 1, 1, 1, 1, 0, 1, 0, 1, 0, 1, 1, 1, 1, 1, 0, 1,\n",
       "       1, 1, 1, 1, 1, 1, 1, 1, 0, 1, 1, 0, 1, 1, 1, 1, 1, 1, 1, 1, 1, 1,\n",
       "       1, 1, 1, 1, 1, 1, 0, 1, 1, 1, 1, 1, 1, 1, 1, 0, 1, 0, 0, 1, 1, 1,\n",
       "       1, 1, 0, 0, 0, 1, 1, 1, 1, 1, 1, 0, 1, 1, 1, 1, 1, 1, 0, 1, 1, 1,\n",
       "       1, 1, 0, 1, 1, 1, 1, 1, 1, 1, 1, 1, 1, 1, 1, 1, 1, 0, 0, 1, 1, 1,\n",
       "       0, 1, 1, 1, 1, 1, 1, 1, 1, 1, 0, 1, 1, 1, 1, 1, 1, 1, 1, 1, 1, 1,\n",
       "       1, 1, 1, 1, 1, 1, 1, 0, 0, 1, 1, 1, 0, 0, 1, 1, 1, 1, 1, 1, 1, 0,\n",
       "       1, 1, 1, 1, 1, 0, 1, 1, 1, 1, 1, 1, 1, 1, 1, 1, 1, 0, 0, 1, 1, 0,\n",
       "       1, 1, 1, 1, 1, 1, 1, 1, 1, 1, 1, 1, 1, 1, 1, 0, 1, 0, 1, 1, 1, 1,\n",
       "       1, 1, 1, 1, 1, 1, 0, 1, 0, 0, 1, 1, 1, 1, 1, 1, 1, 1, 0, 1, 1, 0,\n",
       "       1, 1, 1, 1, 1, 1, 1, 1, 1, 1, 1, 1, 0, 0, 1, 1, 1, 1, 1, 1, 1, 1,\n",
       "       1, 1, 1, 1, 1, 1, 0, 1, 1, 1, 1, 0, 1, 1, 0, 0, 1, 1, 0, 1, 1, 1,\n",
       "       0, 1, 1, 1, 1, 1, 1, 0, 1, 0, 1, 1, 1, 1, 0, 1, 1, 1, 1, 1, 1, 1,\n",
       "       1, 1, 1, 1, 1, 0, 1, 1, 1, 1, 1, 1, 1, 1, 1, 1, 0, 1, 1, 1, 1, 1,\n",
       "       0, 0, 1, 0, 0, 1, 1, 1, 0, 0, 1, 1, 1, 1, 0, 1, 1, 1, 1, 1, 1, 1,\n",
       "       1, 1, 0, 0, 1, 0, 0, 1, 0, 0, 1, 1, 1, 0, 1, 1, 1, 1, 1, 1, 1, 1,\n",
       "       0, 1, 1, 1, 1, 1, 1, 1, 1, 1, 0, 1, 0, 0, 0])"
      ]
     },
     "execution_count": 31,
     "metadata": {},
     "output_type": "execute_result"
    }
   ],
   "source": [
    "bool_val"
   ]
  },
  {
   "cell_type": "code",
   "execution_count": 32,
   "metadata": {},
   "outputs": [
    {
     "data": {
      "text/plain": [
       "603"
      ]
     },
     "execution_count": 32,
     "metadata": {},
     "output_type": "execute_result"
    }
   ],
   "source": [
    "bool_val.sum()"
   ]
  },
  {
   "cell_type": "code",
   "execution_count": 33,
   "metadata": {},
   "outputs": [
    {
     "data": {
      "text/plain": [
       "83.86648122392212"
      ]
     },
     "execution_count": 33,
     "metadata": {},
     "output_type": "execute_result"
    }
   ],
   "source": [
    "bool_val.sum()/y_test.size*100"
   ]
  },
  {
   "cell_type": "code",
   "execution_count": 34,
   "metadata": {},
   "outputs": [],
   "source": [
    "#"
   ]
  },
  {
   "cell_type": "code",
   "execution_count": 35,
   "metadata": {},
   "outputs": [
    {
     "data": {
      "text/plain": [
       "0.8386648122392212"
      ]
     },
     "execution_count": 35,
     "metadata": {},
     "output_type": "execute_result"
    }
   ],
   "source": [
    "digit_recogizer.score(x_test,y_test)"
   ]
  },
  {
   "cell_type": "code",
   "execution_count": 36,
   "metadata": {},
   "outputs": [],
   "source": [
    "# NAIVE BAYES CAN BE MODEL IN SERVERL DIFFERENET WAYS INCLUDING NORMAL/GAUSSIAN LOGNORMAL,GAMMA AND POISSION DISTIBUTION FUNCTION\n",
    "## BAYES THEROEM \n",
    "\n",
    "## P(Y/X)=P(X/Y).P(Y)/P(X)\n"
   ]
  },
  {
   "cell_type": "code",
   "execution_count": 41,
   "metadata": {},
   "outputs": [],
   "source": [
    "#IMPLEMENT NAIVE BAYES:\n",
    "##STEP 1:CONVERT THE DATASET INTO A FREQUENCY TABLE\n",
    "## STEP 2: CREATE A LIKEHOOD TABLE BY FINDING THE PROBABILITY\n",
    "##STEP 3: NOW USE NAIVE BAYES\n",
    "##EXAMPLE: TO FIND THE POSTERIOR PROB OF EACH CLASS FOR DIGIT"
   ]
  },
  {
   "cell_type": "code",
   "execution_count": null,
   "metadata": {},
   "outputs": [],
   "source": []
  },
  {
   "cell_type": "code",
   "execution_count": null,
   "metadata": {},
   "outputs": [],
   "source": []
  }
 ],
 "metadata": {
  "kernelspec": {
   "display_name": "Python 3",
   "language": "python",
   "name": "python3"
  },
  "language_info": {
   "codemirror_mode": {
    "name": "ipython",
    "version": 3
   },
   "file_extension": ".py",
   "mimetype": "text/x-python",
   "name": "python",
   "nbconvert_exporter": "python",
   "pygments_lexer": "ipython3",
   "version": "3.6.5"
  }
 },
 "nbformat": 4,
 "nbformat_minor": 2
}
